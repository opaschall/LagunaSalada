{
 "cells": [
  {
   "attachments": {},
   "cell_type": "markdown",
   "metadata": {},
   "source": [
    "This notebook loads all the igrams, references them to some region/group of pixels, and plots all of them."
   ]
  },
  {
   "cell_type": "code",
   "execution_count": null,
   "metadata": {},
   "outputs": [],
   "source": [
    "# import stuff\n",
    "import os,sys\n",
    "import glob\n",
    "from osgeo import gdal\n",
    "import datetime \n",
    "from datetime import datetime\n",
    "import numpy as np\n",
    "import matplotlib.pyplot as plt\n",
    "%matplotlib  widget"
   ]
  },
  {
   "attachments": {},
   "cell_type": "markdown",
   "metadata": {},
   "source": [
    "Load in all unfilt, unwrapped igrams."
   ]
  },
  {
   "cell_type": "code",
   "execution_count": null,
   "metadata": {},
   "outputs": [],
   "source": [
    "# igramsDir is where the cropped, unwrapped igrams are \n",
    "igramsDir = '/data/ocp4/LagunaSalada/cropped_9000_1800_18000_3600/cropped_northern_shore_LS_for_unwrapping/unfilt_unwrapped/'\n",
    "# this one is to pick out the dates \n",
    "datesDir = '/data/ocp4/LagunaSalada/cropped_9000_1800_18000_3600/'\n",
    "# shape of unwrapped igrams\n",
    "dx = 3000\n",
    "dy = 750\n",
    "# load in dates, make sure they are in order\n",
    "dates = [os.path.basename(x) for x in glob.glob(datesDir+\"SLC_vh/2*\")]; dates = sorted(dates)\n",
    "nd = len(dates); numIgrams = nd-1\n",
    "# set the driver first, only do once.\n",
    "driver=gdal.GetDriverByName('ISCE')\n",
    "unwr_full_res = np.ndarray((numIgrams,dy,dx),dtype='float')\n",
    "# loop through the dates \n",
    "for i in range(numIgrams): # numIgrams if doing all of them at once\n",
    "    date1=dates[i]\n",
    "    date2=dates[i+1]\n",
    "    igramFile = igramsDir+date1+'_'+date2+'_unfilt.unw'\n",
    "    ds = gdal.Open(igramFile,gdal.GA_ReadOnly)\n",
    "    unwr_full_res[i] = ds.GetRasterBand(1).ReadAsArray(0,0,dx,dy)\n",
    "print('unfiltered unwrapped igrams loaded.')"
   ]
  },
  {
   "attachments": {},
   "cell_type": "markdown",
   "metadata": {},
   "source": [
    "Reference all igrams to reference region/box/group of pixels. <br>\n",
    "For now, use the initial box. "
   ]
  },
  {
   "cell_type": "code",
   "execution_count": null,
   "metadata": {},
   "outputs": [],
   "source": [
    "%%script echo skipping \n",
    "# correct all igrams so there's a zero/stationary point \n",
    "# initialize an array for corrected igrams \n",
    "unwr_full_res_cor_2 = np.ndarray(np.shape(unwr_full_res),dtype='float') # this is two reference to a smaller region and compare \n",
    "for i in range(numIgrams):\n",
    "    # remove the average phase from small reference region at foot of mountains   \n",
    "    unwr_full_res_cor_2[i] = unwr_full_res[i]-np.mean(unwr_full_res[i,150:180,800:900])\n",
    "print('igrams corrected by subtracting avg value over small reference region in mountains.')\n",
    "# del unwr_full_res"
   ]
  },
  {
   "attachments": {},
   "cell_type": "markdown",
   "metadata": {},
   "source": [
    "Load the reference pixel mask to use as reference."
   ]
  },
  {
   "cell_type": "code",
   "execution_count": null,
   "metadata": {},
   "outputs": [],
   "source": [
    "# load reference pixels mask \n",
    "maskFile = '/data/ocp4/LagunaSalada/cropped_9000_1800_18000_3600/cropped_northern_shore_LS_for_unwrapping/masks/ref_pixels_mask.r4'\n",
    "ds = gdal.Open(maskFile,gdal.GA_ReadOnly)\n",
    "ref_mask = ds.GetRasterBand(1).ReadAsArray(0,0,dx,dy)\n",
    "print('Reference pixel mask loaded.')\n",
    "# plot it to make sure I read it in correctly\n",
    "plt.figure(figsize=(5,4.5))\n",
    "plt.imshow(ref_mask, cmap='gray',aspect='auto',interpolation='nearest',vmin=0,vmax=1.0)\n",
    "plt.xlim(dx,0); plt.xticks([]); plt.yticks([])\n",
    "plt.xlabel('range'); plt.ylabel('azimuth'); plt.title('reference pixels mask') \n",
    "plt.colorbar(); plt.show()"
   ]
  },
  {
   "attachments": {},
   "cell_type": "markdown",
   "metadata": {},
   "source": [
    "Reference igrams to ref pixels above."
   ]
  },
  {
   "cell_type": "code",
   "execution_count": null,
   "metadata": {},
   "outputs": [],
   "source": [
    "# correct all igrams so there's a zero/stationary point  \n",
    "mask_y,mask_x = np.nonzero(ref_mask)\n",
    "unwr_full_res_cor = np.ndarray(np.shape(unwr_full_res),dtype='float') # this is two reference to a smaller region and compare \n",
    "for i in range(numIgrams):\n",
    "    # remove the average phase from small reference region at foot of mountains   \n",
    "    unwr_full_res_cor[i] = unwr_full_res[i]-np.mean(unwr_full_res[i,mask_y,mask_x])\n",
    "print('igrams corrected by subtracting avg value of ref pixels.')\n",
    "# del unwr_full_res"
   ]
  },
  {
   "attachments": {},
   "cell_type": "markdown",
   "metadata": {},
   "source": [
    "Get precip data."
   ]
  },
  {
   "cell_type": "code",
   "execution_count": null,
   "metadata": {},
   "outputs": [],
   "source": [
    "# Read in 2day precipitation data\n",
    "precip = np.loadtxt('/data/ocp4/LagunaSalada/3_precip/precip_2days.txt', dtype='float')\n",
    "#precip = np.loadtxt('/data/ocp4/LagunaSalada/3_precip/precip_cumulative.txt', dtype='float')\n",
    "print(np.shape(precip))"
   ]
  },
  {
   "attachments": {},
   "cell_type": "markdown",
   "metadata": {},
   "source": [
    "Plot them all. There are 210. This takes a while."
   ]
  },
  {
   "cell_type": "code",
   "execution_count": null,
   "metadata": {},
   "outputs": [],
   "source": [
    "rows = 105 # 105 for all, or int(numIgrams/2)\n",
    "cols = 2\n",
    "figWid = 10\n",
    "figHgt = 4.5*rows\n",
    "plt.figure(figsize=(figWid,figHgt),tight_layout=True)\n",
    "vmin = 0\n",
    "vmax = 20\n",
    "\n",
    "for i in range(numIgrams):  # for all, use range(numIgrams)\n",
    "    date1 = dates[i]; date2 = dates[i+1]\n",
    "    plt.subplot(rows,cols,i+1)\n",
    "    plt.imshow(unwr_full_res_cor[i],aspect='auto',interpolation='nearest')\n",
    "    plt.colorbar(orientation='vertical',pad=0.03,label='phase (rad)'); plt.set_cmap('jet')\n",
    "    plt.xlim([dx,0]); plt.ylim([dy,0])\n",
    "    plt.xticks([]); plt.yticks([]) #plt.xlabel('range'); plt.ylabel('azimuth')\n",
    "    plt.title(str(date1)+', '+str(round(precip[i],2))+' cm precip\\n'+str(date2)+', '+str(round(precip[i+1],2))+' cm precip'+'\\n i = '+str(i))"
   ]
  },
  {
   "attachments": {},
   "cell_type": "markdown",
   "metadata": {},
   "source": [
    "Just plot igrams from the storm at the end of 2018"
   ]
  },
  {
   "cell_type": "code",
   "execution_count": null,
   "metadata": {},
   "outputs": [],
   "source": [
    "#vmin = 0\n",
    "#vmax = 20\n",
    "for i in np.arange(45,50):  # for all, use range(numIgrams)\n",
    "    date1 = dates[i]; date2 = dates[i+1]\n",
    "    plt.figure(figsize=(5,4.5),tight_layout=True)\n",
    "    plt.imshow(unwr_full_res_cor[i],aspect='auto',interpolation='nearest')\n",
    "    plt.colorbar(orientation='vertical',pad=0.03,label='phase (rad)'); plt.set_cmap('jet')\n",
    "    plt.xlim([dx,0]); plt.ylim([dy,0])\n",
    "    plt.xticks([]); plt.yticks([]) #plt.xlabel('range'); plt.ylabel('azimuth')\n",
    "    plt.title(str(date1)+', '+str(round(precip[i],2))+' cm precip\\n'+str(date2)+', '+str(round(precip[i+1],2))+' cm precip'+'\\n i = '+str(i))"
   ]
  },
  {
   "attachments": {},
   "cell_type": "markdown",
   "metadata": {},
   "source": [
    "Load in coherence files created with notebook /data/ocp4/LagunaSalada/2_coherence/produce_coherence_files_for_sequential_igrams.ipynb \n",
    "<br> This takes a few minutes. "
   ]
  },
  {
   "cell_type": "code",
   "execution_count": null,
   "metadata": {},
   "outputs": [],
   "source": [
    "# read in coherence files\n",
    "saveDir = '/data/ocp4/LagunaSalada/2_coherence/coh_tip_LS_all_igrams/'\n",
    "coh = np.ndarray((np.shape(unwr_full_res)),dtype='float')\n",
    "for i in range(numIgrams): #range(numIgrams)\n",
    "    date1=dates[i]\n",
    "    date2=dates[i+1]\n",
    "    file_name = 'coh_'+str(date1)+'_'+str(date2)+'.r4'\n",
    "    f1 = gdal.Open(saveDir+file_name, gdal.GA_ReadOnly)\n",
    "    coh[i] = f1.ReadAsArray()\n",
    "f1 = None\n",
    "print('Coh maps loaded.')"
   ]
  },
  {
   "attachments": {},
   "cell_type": "markdown",
   "metadata": {},
   "source": [
    "Plot coherence maps for the rainy dates above."
   ]
  },
  {
   "cell_type": "code",
   "execution_count": null,
   "metadata": {},
   "outputs": [],
   "source": [
    "for i in np.arange(45,50):  # for all, use range(numIgrams)\n",
    "    date1 = dates[i]; date2 = dates[i+1]\n",
    "    plt.figure(figsize=(5,4.5),tight_layout=True)\n",
    "    plt.imshow(coh[i],aspect='auto',interpolation='nearest',extent=[0,dx,dy,0],vmin=0,vmax=1.0)\n",
    "    plt.colorbar(orientation='vertical',pad=0.03,label='phase (rad)'); plt.set_cmap('jet')\n",
    "    plt.xlim([dx,0]); plt.ylim([dy,0])\n",
    "    plt.xticks([]); plt.yticks([]) #plt.xlabel('range'); plt.ylabel('azimuth')\n",
    "    plt.title(str(date1)+', '+str(round(precip[i],2))+' cm precip\\n'+str(date2)+', '+str(round(precip[i+1],2))+' cm precip'+'\\n i = '+str(i))"
   ]
  }
 ],
 "metadata": {
  "kernelspec": {
   "display_name": "oliviaJupyter",
   "language": "python",
   "name": "python3"
  },
  "language_info": {
   "codemirror_mode": {
    "name": "ipython",
    "version": 3
   },
   "file_extension": ".py",
   "mimetype": "text/x-python",
   "name": "python",
   "nbconvert_exporter": "python",
   "pygments_lexer": "ipython3",
   "version": "3.9.9"
  },
  "orig_nbformat": 4
 },
 "nbformat": 4,
 "nbformat_minor": 2
}
