{
 "cells": [
  {
   "attachments": {},
   "cell_type": "markdown",
   "metadata": {},
   "source": [
    "Save an image of cumulative phase up to that point for each igram. Then combine to make a gif.\n",
    "\n",
    "notebook make on 3-27-23."
   ]
  },
  {
   "cell_type": "code",
   "execution_count": 1,
   "metadata": {},
   "outputs": [],
   "source": [
    "# import stuff\n",
    "import os,sys\n",
    "import glob\n",
    "from osgeo import gdal\n",
    "import datetime \n",
    "from datetime import datetime\n",
    "import numpy as np\n",
    "import matplotlib.pyplot as plt\n",
    "import imageio\n",
    "%matplotlib  widget"
   ]
  },
  {
   "attachments": {},
   "cell_type": "markdown",
   "metadata": {},
   "source": [
    "Load in all unfilt, unwrapped igrams."
   ]
  },
  {
   "cell_type": "code",
   "execution_count": 2,
   "metadata": {},
   "outputs": [
    {
     "name": "stdout",
     "output_type": "stream",
     "text": [
      "unfiltered unwrapped igrams loaded.\n"
     ]
    }
   ],
   "source": [
    "# igramsDir is where the cropped, unwrapped igrams are \n",
    "igramsDir = '/data/ocp4/LagunaSalada/cropped_9000_1800_18000_3600/cropped_northern_shore_LS_for_unwrapping/unfilt_unwrapped/'\n",
    "# this one is to pick out the dates \n",
    "datesDir = '/data/ocp4/LagunaSalada/cropped_9000_1800_18000_3600/'\n",
    "# shape of unwrapped igrams\n",
    "dx = 3000\n",
    "dy = 750\n",
    "# load in dates, make sure they are in order\n",
    "dates = [os.path.basename(x) for x in glob.glob(datesDir+\"SLC_vh/2*\")]; dates = sorted(dates)\n",
    "nd = len(dates); numIgrams = nd-1\n",
    "# set the driver first, only do once.\n",
    "driver=gdal.GetDriverByName('ISCE')\n",
    "unwr_full_res = np.ndarray((numIgrams,dy,dx),dtype='float')\n",
    "# loop through the dates \n",
    "for i in range(numIgrams): # numIgrams if doing all of them at once\n",
    "    date1=dates[i]\n",
    "    date2=dates[i+1]\n",
    "    igramFile = igramsDir+date1+'_'+date2+'_unfilt.unw'\n",
    "    ds = gdal.Open(igramFile,gdal.GA_ReadOnly)\n",
    "    unwr_full_res[i] = ds.GetRasterBand(1).ReadAsArray(0,0,dx,dy)\n",
    "print('unfiltered unwrapped igrams loaded.')"
   ]
  },
  {
   "attachments": {},
   "cell_type": "markdown",
   "metadata": {},
   "source": [
    "Load the reference pixel mask and reference each igram. "
   ]
  },
  {
   "cell_type": "code",
   "execution_count": 3,
   "metadata": {},
   "outputs": [
    {
     "name": "stdout",
     "output_type": "stream",
     "text": [
      "Reference pixel mask loaded.\n",
      "igrams corrected by subtracting avg value of ref pixels.\n"
     ]
    }
   ],
   "source": [
    "# load reference pixels mask \n",
    "maskFile = '/data/ocp4/LagunaSalada/cropped_9000_1800_18000_3600/cropped_northern_shore_LS_for_unwrapping/masks/ref_pixels_mask.r4'\n",
    "ds = gdal.Open(maskFile,gdal.GA_ReadOnly)\n",
    "ref_mask = ds.GetRasterBand(1).ReadAsArray(0,0,dx,dy)\n",
    "print('Reference pixel mask loaded.')\n",
    "# correct all igrams so there's a zero/stationary point  \n",
    "mask_y,mask_x = np.nonzero(ref_mask)\n",
    "unwr_full_res_cor = np.ndarray(np.shape(unwr_full_res),dtype='float') \n",
    "for i in range(numIgrams):\n",
    "    # remove the average phase from small reference region at foot of mountains   \n",
    "    unwr_full_res_cor[i] = unwr_full_res[i]-np.mean(unwr_full_res[i,mask_y,mask_x])\n",
    "print('igrams corrected by subtracting avg value of ref pixels.')\n",
    "# del unwr_full_res"
   ]
  },
  {
   "attachments": {},
   "cell_type": "markdown",
   "metadata": {},
   "source": [
    "Calculate cumulative igrams."
   ]
  },
  {
   "cell_type": "code",
   "execution_count": 4,
   "metadata": {},
   "outputs": [
    {
     "name": "stdout",
     "output_type": "stream",
     "text": [
      "Cumulative phase calculated.\n"
     ]
    }
   ],
   "source": [
    "# initialize the array\n",
    "cum_unwr = np.ndarray(np.shape(unwr_full_res),dtype='float')\n",
    "# calculate cumulative sum along the first axis of array \n",
    "cum_unwr = np.cumsum(unwr_full_res_cor,axis=0)\n",
    "print('Cumulative phase calculated.')\n",
    "\n",
    "# see what values to use for vmin and vmax to keep it constant in gif.\n",
    "#print(max(cum_unwr.flatten())) # ~103.5\n",
    "#print(min(cum_unwr.flatten())) # ~-108.9"
   ]
  },
  {
   "attachments": {},
   "cell_type": "markdown",
   "metadata": {},
   "source": [
    "Read in precip data."
   ]
  },
  {
   "cell_type": "code",
   "execution_count": 5,
   "metadata": {},
   "outputs": [
    {
     "name": "stdout",
     "output_type": "stream",
     "text": [
      "(211,)\n"
     ]
    }
   ],
   "source": [
    "# Read in 2day precipitation data\n",
    "precip = np.loadtxt('/data/ocp4/LagunaSalada/3_precip/precip_2days.txt', dtype='float')\n",
    "#precip = np.loadtxt('/data/ocp4/LagunaSalada/3_precip/precip_cumulative.txt', dtype='float')\n",
    "print(np.shape(precip))"
   ]
  },
  {
   "attachments": {},
   "cell_type": "markdown",
   "metadata": {},
   "source": [
    "Plot and save each image of each cumulative igram to be combined into a gif later. "
   ]
  },
  {
   "cell_type": "code",
   "execution_count": 10,
   "metadata": {},
   "outputs": [
    {
     "name": "stdout",
     "output_type": "stream",
     "text": [
      "Figures saved.\n"
     ]
    }
   ],
   "source": [
    "vmin = -20\n",
    "vmax = 20\n",
    "# Save these as isce-readable files so I don't have to run that each time \n",
    "saveDir = '/data/ocp4/LagunaSalada/11_unwrapped_igrams/igrams_for_gif_cumulative_disp/'\n",
    "filenames = []\n",
    "\n",
    "for i in range(numIgrams):  # for all, use range(numIgrams)\n",
    "    date1 = dates[i]; date2 = dates[i+1]\n",
    "    plt.figure(figsize=(10,9),tight_layout=True)\n",
    "    plt.imshow(cum_unwr[i],aspect='auto',interpolation='nearest',vmin=vmin,vmax=vmax)\n",
    "    plt.colorbar(orientation='vertical',pad=0.03,label='cum phase (rad)'); plt.set_cmap('jet')\n",
    "    plt.xlim([dx,0]); plt.ylim([dy,0])\n",
    "    plt.xticks([]); plt.yticks([]); #plt.xlabel('range'); plt.ylabel('azimuth')\n",
    "    plt.title(str(date1)+', '+str(round(precip[i],2))+' cm precip\\n'+str(date2)+', '+str(round(precip[i+1],2))+' cm precip'+'\\n i = '+str(i))\n",
    "    name_img = str(date1)+'-'+str(date2)+'_igram_'+str(i)+'_cum_unfilt_unwr.jpg'\n",
    "    plt.savefig(saveDir+name_img, transparent=True)\n",
    "    plt.close()\n",
    "    filenames.append(name_img)\n",
    "print('Figures saved.')"
   ]
  },
  {
   "attachments": {},
   "cell_type": "markdown",
   "metadata": {},
   "source": [
    "If the files are already saved, make a file list to produce the gif in the next cell."
   ]
  },
  {
   "cell_type": "code",
   "execution_count": 8,
   "metadata": {},
   "outputs": [
    {
     "name": "stdout",
     "output_type": "stream",
     "text": [
      "List of file names created.\n"
     ]
    }
   ],
   "source": [
    "filenames = []\n",
    "saveDir = '/data/ocp4/LagunaSalada/11_unwrapped_igrams/igrams_for_gif_cumulative_disp/'\n",
    "for i in range(numIgrams):  # for all, use range(numIgrams)\n",
    "    date1 = dates[i]; date2 = dates[i+1]\n",
    "    name_img = str(date1)+'-'+str(date2)+'_igram_'+str(i)+'_cum_unfilt_unwr.jpg'\n",
    "    filenames.append(name_img)\n",
    "print('List of file names created.')"
   ]
  },
  {
   "cell_type": "code",
   "execution_count": 9,
   "metadata": {},
   "outputs": [
    {
     "name": "stdout",
     "output_type": "stream",
     "text": [
      "Gif saved.\n"
     ]
    }
   ],
   "source": [
    "# build gif\n",
    "with imageio.get_writer('cum_disp_rads.gif', mode='I') as writer:\n",
    "    for filename in filenames:\n",
    "        image = imageio.v2.imread(saveDir+filename)\n",
    "        writer.append_data(image)\n",
    "print('Gif saved.')"
   ]
  }
 ],
 "metadata": {
  "kernelspec": {
   "display_name": "oliviaJupyter",
   "language": "python",
   "name": "python3"
  },
  "language_info": {
   "codemirror_mode": {
    "name": "ipython",
    "version": 3
   },
   "file_extension": ".py",
   "mimetype": "text/x-python",
   "name": "python",
   "nbconvert_exporter": "python",
   "pygments_lexer": "ipython3",
   "version": "3.9.9"
  },
  "orig_nbformat": 4
 },
 "nbformat": 4,
 "nbformat_minor": 2
}
