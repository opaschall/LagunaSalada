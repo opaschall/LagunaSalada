{
 "cells": [
  {
   "cell_type": "code",
   "execution_count": 1,
   "metadata": {},
   "outputs": [],
   "source": [
    "# import stuff\n",
    "import os,sys\n",
    "import glob\n",
    "import pandas\n",
    "from osgeo import gdal\n",
    "import datetime \n",
    "from datetime import datetime\n",
    "from datetime import timedelta\n",
    "from dateutil import parser\n",
    "import numpy as np\n",
    "from scipy.ndimage import gaussian_filter\n",
    "import matplotlib.pyplot as plt\n",
    "%matplotlib  widget"
   ]
  },
  {
   "attachments": {},
   "cell_type": "markdown",
   "metadata": {},
   "source": [
    "Read in unfiltered, unwrapped igrams. Can take a few minutes."
   ]
  },
  {
   "cell_type": "code",
   "execution_count": null,
   "metadata": {},
   "outputs": [],
   "source": [
    "# igramsDir is where the cropped, unwrapped igrams are \n",
    "igramsDir = '/data/ocp4/LagunaSalada/cropped_9000_1800_18000_3600/cropped_northern_shore_LS_for_unwrapping/unfilt_unwrapped/'\n",
    "# this one is to pick out the dates \n",
    "datesDir = '/data/ocp4/LagunaSalada/cropped_9000_1800_18000_3600/'\n",
    "# shape of unwrapped igrams\n",
    "dx = 3000\n",
    "dy = 750\n",
    "# load in dates, make sure they are in order\n",
    "dates = [os.path.basename(x) for x in glob.glob(datesDir+\"SLC_vh/2*\")]; dates = sorted(dates)\n",
    "nd = len(dates); numIgrams = nd-1\n",
    "# set the driver first, only do once.\n",
    "driver=gdal.GetDriverByName('ISCE')\n",
    "unwr_full_res = np.ndarray((numIgrams,dy,dx),dtype='float')\n",
    "# loop through the dates \n",
    "for i in range(numIgrams): # numIgrams if doing all of them at once\n",
    "    date1=dates[i]\n",
    "    date2=dates[i+1]\n",
    "    igramFile = igramsDir+date1+'_'+date2+'_unfilt.unw'\n",
    "    ds = gdal.Open(igramFile,gdal.GA_ReadOnly)\n",
    "    unwr_full_res[i] = ds.GetRasterBand(1).ReadAsArray(0,0,dx,dy)\n",
    "print('unfiltered unwrapped igrams loaded.')"
   ]
  },
  {
   "attachments": {},
   "cell_type": "markdown",
   "metadata": {},
   "source": [
    "Calculate complex coherence for each pixel for each interferogram and save them in folder: /data/ocp4/LagunaSalada/2_coherence/coh_tip_LS_all_igrams/"
   ]
  },
  {
   "cell_type": "code",
   "execution_count": null,
   "metadata": {},
   "outputs": [],
   "source": [
    "# calculate coherence using standard method for the point at every time\n",
    "\n",
    "# loop through all the igrams and calculate coherence for every pixel for each one.\n",
    "#coh = np.zeros((np.shape(unwr_full_res)),dtype='complex')\n",
    "coh = np.ndarray((np.shape(unwr_full_res)),dtype='float')\n",
    "# bounding box within full area\n",
    "x1 = 17000; x2 = 14000\n",
    "y1 = 1750;  y2 = 1000\n",
    "# area we want to average over to get coherence, same as filtering window \n",
    "alooks=4; rlooks=20 # x is range, y is azimuth \n",
    "# output igram size (smaller area at tip of LS)\n",
    "dx2 = int(np.abs(x1-x2)); dy2 = int(np.abs(y1-y2))\n",
    "# set the driver first, only do once.\n",
    "driver=gdal.GetDriverByName('ISCE')\n",
    "# set the folder to save these coh files to \n",
    "saveDir = '/data/ocp4/LagunaSalada/2_coherence/coh_tip_LS_all_igrams/'\n",
    "# loop through the dates \n",
    "for i in range(numIgrams): # numIgrams if doing all of them at once\n",
    "    # define the 2 dates. \n",
    "    date1=dates[i]\n",
    "    date2=dates[i+1]\n",
    "    # Read in 2 full SLCs to make interferogram \n",
    "    ds = gdal.Open(datesDir+\"/SLC_vv/\"+date1+\"/\"+date1+\".slc.full\", gdal.GA_ReadOnly)\n",
    "    # have to load in more than just the pixels of interest to calculate coh at edge pixels \n",
    "    slc1 = ds.GetRasterBand(1).ReadAsArray(x2-rlooks/2,y2-alooks/2,dx2+rlooks,dy2+alooks)\n",
    "    ds = gdal.Open(datesDir+\"/SLC_vv/\"+date2+\"/\"+date2+\".slc.full\", gdal.GA_ReadOnly)\n",
    "    slc2 = ds.GetRasterBand(1).ReadAsArray(x2-rlooks/2,y2-alooks/2,dx2+rlooks,dy2+alooks)\n",
    "    aa = slc1*np.conj(slc1)\n",
    "    bb = slc2*np.conj(slc2)\n",
    "    ab = slc1*np.conj(slc2)\n",
    "    for y in np.arange(0,dy2,1): # started with this: np.arange(y2,y1,1)\n",
    "        for x in np.arange(0,dx2,1): # started with this: np.arange(x2,x1,1)\n",
    "            # calculate coherence using this formula: <ab*>/sqrt(<aa*><bb*>)\n",
    "            # aa = np.mean(aa,axis=(0,1)); bb = np.mean(bb,axis=(0,1)); ab = np.mean(ab,axis=(0,1))# this is averaging over axes 0 and 1\n",
    "            aa_temp = (np.mean(aa[int(y):int(y+alooks),int(x):int(x+rlooks)]))\n",
    "            bb_temp = (np.mean(bb[int(y):int(y+alooks),int(x):int(x+rlooks)]))\n",
    "            ab_temp = (np.mean(ab[int(y):int(y+alooks),int(x):int(x+rlooks)]))\n",
    "            #coh[i,y,x] = ab_temp/np.sqrt(aa_temp*bb_temp) \n",
    "            coh[i,y,x] = np.abs(ab_temp/np.sqrt(aa_temp*bb_temp))\n",
    "    # save the coherence plot so I can load it in easily to invert \n",
    "    save_file_name = 'coh_'+str(date1)+'-'+str(date2)+'.r4'\n",
    "    colds = driver.Create(saveDir+save_file_name,dx2,dy2,1,gdal.GDT_Float32)\n",
    "    colds.GetRasterBand(1).WriteArray(coh[i])\n",
    "    colds=None\n",
    "    print('coh for igram '+str(i)+' done and saved.')\n",
    "#print('coherence calculated for every igram for every pixel.')"
   ]
  }
 ],
 "metadata": {
  "kernelspec": {
   "display_name": "oliviaJupyter",
   "language": "python",
   "name": "python3"
  },
  "language_info": {
   "codemirror_mode": {
    "name": "ipython",
    "version": 3
   },
   "file_extension": ".py",
   "mimetype": "text/x-python",
   "name": "python",
   "nbconvert_exporter": "python",
   "pygments_lexer": "ipython3",
   "version": "3.9.9 | packaged by conda-forge | (main, Dec 20 2021, 02:41:03) \n[GCC 9.4.0]"
  },
  "orig_nbformat": 4,
  "vscode": {
   "interpreter": {
    "hash": "4fa1be1bdc77858ae7f715553366090cb9e4a262a14f4183988fd6a5a1f05c5e"
   }
  }
 },
 "nbformat": 4,
 "nbformat_minor": 2
}
