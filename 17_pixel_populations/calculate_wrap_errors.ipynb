{
 "cells": [
  {
   "cell_type": "markdown",
   "metadata": {},
   "source": [
    "Calculates wrap error for each pixel by loading sequential and skip1 igrams, then differencing them after removing their modes. \n",
    "<br><br>\n",
    "Written 10-17-23 to reproduce the wrap_err.i1 file that Rowena had made.\n",
    "***\n",
    "***"
   ]
  },
  {
   "cell_type": "code",
   "execution_count": null,
   "metadata": {},
   "outputs": [],
   "source": [
    "# import stuff\n",
    "import os,sys\n",
    "import glob\n",
    "from osgeo import gdal\n",
    "import datetime \n",
    "from datetime import datetime\n",
    "import numpy as np\n",
    "import matplotlib.pyplot as plt\n",
    "%matplotlib  widget"
   ]
  },
  {
   "cell_type": "markdown",
   "metadata": {},
   "source": [
    "Load Rowena's version of the wrap error map to compare to mine. "
   ]
  },
  {
   "cell_type": "code",
   "execution_count": null,
   "metadata": {},
   "outputs": [],
   "source": [
    "loadDir = '/data/ocp4/LagunaSalada/Data_and_Figs/cropped_9000_1800_18000_3600/cropped_LS_with_western_mtns/'\n",
    "file_name = 'unfilt_unwrapped/wrap_err.i1' \n",
    "f1 = gdal.Open(loadDir+file_name, gdal.GA_ReadOnly)\n",
    "wrap_err_Ro = f1.ReadAsArray(); f1 = None\n",
    "print('wrap errors for each pixel loaded.')"
   ]
  },
  {
   "cell_type": "markdown",
   "metadata": {},
   "source": [
    "Load in seq igrams AB, BC, and skip1 igram AC to calculate corrected triplet/loop/wrap error, add it to a cumulative wrap_err array."
   ]
  },
  {
   "cell_type": "code",
   "execution_count": null,
   "metadata": {},
   "outputs": [],
   "source": [
    "# igramsDir is where the cropped, unwrapped igrams are \n",
    "igramsDir = '/data/ocp4/LagunaSalada/Data_and_Figs/cropped_9000_1800_18000_3600/cropped_LS_with_western_mtns/unfilt_unwrapped/'\n",
    "# this one is to pick out the dates \n",
    "datesDir = '/data/ocp4/LagunaSalada/Data_and_Figs/cropped_9000_1800_18000_3600/'\n",
    "\n",
    "# shape of unwrapped igrams\n",
    "dx = 4000\n",
    "dy = 1100\n",
    "\n",
    "# load in dates, make sure they are in order\n",
    "dates = [os.path.basename(x) for x in glob.glob(datesDir+\"SLC_vh/2*\")]; dates = sorted(dates)\n",
    "nd = len(dates); numIgrams = nd-1\n",
    "\n",
    "# this will accumulate wrap errors as each triplet is loaded in \n",
    "wrap_err = np.zeros((dy,dx))\n",
    "\n",
    "# loop through the dates \n",
    "for i in range(numIgrams-1): # 211 SLCs, 210 igrams, 209 triplets \n",
    "    dateA=dates[i]\n",
    "    dateB=dates[i+1]\n",
    "    dateC=dates[i+2]\n",
    "    # seq igram AB\n",
    "    igramAB = igramsDir+dateA+'_'+dateB+'_unfilt.unw'\n",
    "    ds = gdal.Open(igramAB,gdal.GA_ReadOnly)\n",
    "    phsAB = ds.GetRasterBand(1).ReadAsArray(0,0,dx,dy)\n",
    "    # seq igram BC\n",
    "    igramBC = igramsDir+dateB+'_'+dateC+'_unfilt.unw'\n",
    "    ds = gdal.Open(igramBC,gdal.GA_ReadOnly)\n",
    "    phsBC = ds.GetRasterBand(1).ReadAsArray(0,0,dx,dy)\n",
    "    # skip1 igram AC\n",
    "    igramAC = igramsDir+dateA+'_'+dateC+'_unfilt.unw'\n",
    "    ds = gdal.Open(igramAC,gdal.GA_ReadOnly)\n",
    "    phsAC = ds.GetRasterBand(1).ReadAsArray(0,0,dx,dy)\n",
    "    # calculate wrap error for that triplet and add it\n",
    "    print(np.rint(np.median(phsAC)/(2*np.pi)))\n",
    "    correction = np.rint(np.median(phsAB + phsBC)) - np.rint(np.median(phsAC))\n",
    "    wrap_err += np.abs(np.rint((phsAB + phsBC - phsAC - correction)/(2*np.pi)))\n",
    "\n",
    "    ''' \n",
    "    #This was for troubleshooting \n",
    "    plt.figure(figsize=(8,8),tight_layout=True)\n",
    "    plt.subplot(2,2,1)\n",
    "    plt.imshow(phsAB, aspect='auto',interpolation='nearest')\n",
    "    plt.colorbar(orientation='vertical',pad=0.02,label='phs')\n",
    "    plt.xlim([dx,0]); plt.ylim([dy,0]); plt.xticks([]); plt.yticks([])\n",
    "    plt.title('AB')\n",
    "    plt.subplot(2,2,2)\n",
    "    plt.imshow(phsBC, aspect='auto',interpolation='nearest')\n",
    "    plt.colorbar(orientation='vertical',pad=0.02,label='phs')\n",
    "    plt.xlim([dx,0]); plt.ylim([dy,0]); plt.xticks([]); plt.yticks([])\n",
    "    plt.title('BC')\n",
    "    plt.subplot(2,2,3)\n",
    "    plt.imshow(phsAC, aspect='auto',interpolation='nearest')\n",
    "    plt.colorbar(orientation='vertical',pad=0.02,label='phs')\n",
    "    plt.xlim([dx,0]); plt.ylim([dy,0]); plt.xticks([]); plt.yticks([])\n",
    "    plt.title('AC')\n",
    "    plt.subplot(2,2,4)\n",
    "    plt.imshow(wrap_err, aspect='auto',interpolation='nearest')\n",
    "    plt.colorbar(orientation='vertical',pad=0.02,label='cumulative wrapping errors, number of 2pi jumps')\n",
    "    plt.xlim([dx,0]); plt.ylim([dy,0]); plt.xticks([]); plt.yticks([])\n",
    "    plt.title('wrap_err of triplet ABC')\n",
    "    plt.show()\n",
    "    '''"
   ]
  },
  {
   "cell_type": "markdown",
   "metadata": {},
   "source": [
    "Plot Rowena's wrap error map."
   ]
  },
  {
   "cell_type": "code",
   "execution_count": null,
   "metadata": {},
   "outputs": [],
   "source": [
    "plt.figure(figsize=(8,8),tight_layout=True)\n",
    "plt.subplot(2,2,1)\n",
    "plt.imshow(wrap_err_Ro, aspect='auto',interpolation='nearest',vmin=0,vmax=50)\n",
    "plt.colorbar(orientation='vertical',pad=0.02,label='cumulative wrapping errors, number of 2pi jumps')\n",
    "plt.xlim([dx,0]); plt.ylim([dy,0]); plt.xticks([]); plt.yticks([])\n",
    "plt.title('Rowena\\'s version')\n",
    "plt.subplot(2,2,2)\n",
    "plt.imshow(wrap_err, aspect='auto',interpolation='nearest',vmin=0,vmax=50)\n",
    "plt.colorbar(orientation='vertical',pad=0.02,label='cumulative wrapping errors, number of 2pi jumps')\n",
    "plt.xlim([dx,0]); plt.ylim([dy,0]); plt.xticks([]); plt.yticks([])\n",
    "plt.title('My version')\n",
    "plt.subplot(2,2,3)\n",
    "plt.imshow(wrap_err_Ro-wrap_err, aspect='auto',interpolation='nearest',vmin=0,vmax=50)\n",
    "plt.colorbar(orientation='vertical',pad=0.02,label='cumulative wrapping errors, number of 2pi jumps')\n",
    "plt.xlim([dx,0]); plt.ylim([dy,0]); plt.xticks([]); plt.yticks([])\n",
    "plt.title('Diff btw them')\n",
    "plt.show()"
   ]
  },
  {
   "cell_type": "markdown",
   "metadata": {},
   "source": [
    "Save it. Only run once."
   ]
  },
  {
   "cell_type": "code",
   "execution_count": 59,
   "metadata": {},
   "outputs": [
    {
     "name": "stdout",
     "output_type": "stream",
     "text": [
      "Wrap error file saved.\n"
     ]
    }
   ],
   "source": [
    "driver=gdal.GetDriverByName('ISCE')\n",
    "fileName = '/data/ocp4/LagunaSalada/Data_and_Figs/cropped_9000_1800_18000_3600/cropped_LS_with_western_mtns/wrap_err.r4'\n",
    "colds = driver.Create(fileName,dx,dy,1,gdal.GDT_Float32)\n",
    "colds.GetRasterBand(1).WriteArray(wrap_err)\n",
    "colds=None\n",
    "print('Wrap error file saved.')"
   ]
  }
 ],
 "metadata": {
  "kernelspec": {
   "display_name": "earthscope_insar",
   "language": "python",
   "name": "python3"
  },
  "language_info": {
   "codemirror_mode": {
    "name": "ipython",
    "version": 3
   },
   "file_extension": ".py",
   "mimetype": "text/x-python",
   "name": "python",
   "nbconvert_exporter": "python",
   "pygments_lexer": "ipython3",
   "version": "3.11.6"
  }
 },
 "nbformat": 4,
 "nbformat_minor": 2
}
