{
 "cells": [
  {
   "cell_type": "markdown",
   "metadata": {},
   "source": [
    "This notebook creates synthetic data with 2 different rates, make igram pairs and show that it gives a TPC bias. \n",
    "\n",
    "<br>\n",
    "Written on ? (was incorrect though) and edited on 10-19-23.\n",
    "\n",
    "***\n",
    "***"
   ]
  },
  {
   "cell_type": "code",
   "execution_count": 1,
   "metadata": {},
   "outputs": [],
   "source": [
    "# import stuff\n",
    "import os,sys\n",
    "import glob\n",
    "import pandas\n",
    "from osgeo import gdal\n",
    "import datetime \n",
    "from datetime import datetime\n",
    "from datetime import timedelta\n",
    "from dateutil import parser\n",
    "import numpy as np\n",
    "from scipy.ndimage import gaussian_filter, uniform_filter\n",
    "import matplotlib.pyplot as plt\n",
    "import matplotlib.patches as mpatches\n",
    "from matplotlib.patches import Rectangle\n",
    "from scipy import signal\n",
    "import scipy\n",
    "%matplotlib  widget "
   ]
  },
  {
   "cell_type": "markdown",
   "metadata": {},
   "source": [
    "Define colormap where Nans are green"
   ]
  },
  {
   "cell_type": "code",
   "execution_count": 2,
   "metadata": {},
   "outputs": [
    {
     "name": "stdout",
     "output_type": "stream",
     "text": [
      "colormap made where NANs will be green.\n"
     ]
    }
   ],
   "source": [
    "seismic2 = plt.cm.get_cmap(\"seismic\").copy()\n",
    "seismic2.set_bad(color='green')\n",
    "print('colormap made where NANs will be green.')"
   ]
  },
  {
   "cell_type": "markdown",
   "metadata": {},
   "source": [
    "Create a mask for 2 populations. Defined by what percent is in pop1, rest in pop2."
   ]
  },
  {
   "cell_type": "code",
   "execution_count": null,
   "metadata": {},
   "outputs": [],
   "source": [
    "# dimensions of area\n",
    "dx = 100\n",
    "dy = 100\n",
    "# percentage of pixels that are in pop1\n",
    "pop1_percent = 5\n",
    "# rate and std of rate\n",
    "med = 0.0\n",
    "std = 2.0\n",
    "\n",
    "# create random values to select \n",
    "random_vals = np.random.normal(med,std,(dx,dy)) # median, std, size of array\n",
    "mask = np.zeros((dx,dy))\n",
    "mask[random_vals<np.percentile(random_vals.flatten(),pop1_percent)] = 1.0\n",
    "\n",
    "plt.figure(figsize=(5,5),tight_layout=True)\n",
    "plt.imshow(mask,cmap='gray',interpolation='none')\n",
    "plt.colorbar(); plt.title('pop1 white\\n'+str(np.sum(mask))+' pix in pop1')\n",
    "plt.show()\n",
    "\n",
    "print('pop1: '+str(np.sum(mask))+' pixels.')\n",
    "print('pop2: '+str(dx*dy-np.sum(mask))+' pixels.')\n",
    "print('percentage in pop1: '+str(np.sum(mask)/(dx*dy)*100))"
   ]
  },
  {
   "cell_type": "markdown",
   "metadata": {},
   "source": [
    "Define disp rates and convert them from cm/yr to rad/igram which is what real data looks like."
   ]
  },
  {
   "cell_type": "code",
   "execution_count": null,
   "metadata": {},
   "outputs": [],
   "source": [
    "# set velocities of each population.\n",
    "pop1_vel = 0.0      # this is in cm/yr \n",
    "pop2_vel = 2.0      # this is in cm/yr \n",
    "\n",
    "# define a function to convert rate in cm/yr to rate in rad/igram\n",
    "def vel2phs(vel,dt): # dt is in days, temporal baseline\n",
    "    phs = vel/365.25*dt*4*np.pi/5.5465763\n",
    "    return phs\n",
    "\n",
    "# choose 12 days as temporal baseline for this test.\n",
    "pop1_phs = vel2phs(pop1_vel,100)     # this is the phase per interferogram for these pixels with given rate\n",
    "pop2_phs = vel2phs(pop2_vel,100)\n",
    "print('phase in rad/igram created for each pop.')\n",
    "\n",
    "# define the noise level, this will be the std of the Gaussian distribution when we create igram phase data.\n",
    "noise_level = 0.5\n",
    "print('noise level defined.')"
   ]
  },
  {
   "cell_type": "code",
   "execution_count": null,
   "metadata": {},
   "outputs": [],
   "source": [
    "print(vel2phs(2.0,12))\n",
    "print(vel2phs(2.0,24))\n",
    "print(vel2phs(2.0,100))"
   ]
  },
  {
   "cell_type": "markdown",
   "metadata": {},
   "source": [
    "Practice making a single igram (just phase) that combines the populations according to the mask."
   ]
  },
  {
   "cell_type": "code",
   "execution_count": null,
   "metadata": {},
   "outputs": [],
   "source": [
    "# start with what an igram would look like for each pop if all pixels were in that pop\n",
    "pop1_to_sample = np.random.normal(pop1_phs,noise_level,(dy,dx)) # (center of distribution, std of distribution, size)\n",
    "pop2_to_sample = np.random.normal(pop2_phs,noise_level,(dy,dx))\n",
    "\n",
    "# follow mask to put in values from each pop into a combined pop synthetic igram.\n",
    "pop1 = np.zeros((dy,dx))*np.nan\n",
    "pop1[mask==1]=pop1_to_sample[mask==1] # keep these separate for plotting while troubleshooting.\n",
    "pop2 = np.zeros((dy,dx))*np.nan\n",
    "pop2[mask==0]=pop2_to_sample[mask==0]\n",
    "\n",
    "pops12 = np.zeros((dy,dx))*np.nan\n",
    "pops12[mask==1]=pop1_to_sample[mask==1] # now combine them and make sure it worked.\n",
    "pops12[mask==0]=pop2_to_sample[mask==0]\n",
    "\n",
    "plt.figure(figsize=(10,15),tight_layout=True)\n",
    "plt.subplot(3,2,1)\n",
    "plt.imshow(pop1_to_sample,cmap=seismic2,interpolation='none',vmin=-5,vmax=5)\n",
    "plt.colorbar(); plt.title('pop1 to sample')\n",
    "plt.subplot(3,2,2)\n",
    "plt.imshow(pop2_to_sample,cmap=seismic2,interpolation='none',vmin=-5,vmax=5)\n",
    "plt.colorbar(); plt.title('pop2 to sample')\n",
    "plt.subplot(3,2,3)\n",
    "plt.imshow(pop1,cmap=seismic2,interpolation='none',vmin=-5,vmax=5)\n",
    "plt.colorbar(); plt.title('pop1')\n",
    "plt.subplot(3,2,4)\n",
    "plt.imshow(pop2,cmap=seismic2,interpolation='none',vmin=-5,vmax=5)\n",
    "plt.colorbar(); plt.title('pop2')\n",
    "plt.subplot(3,2,5)\n",
    "plt.imshow(pops12,cmap=seismic2,interpolation='none',vmin=-5,vmax=5)\n",
    "plt.colorbar(); plt.title('combined pops')\n",
    "plt.show()"
   ]
  },
  {
   "cell_type": "markdown",
   "metadata": {},
   "source": [
    "Now make the phase data complex (magnitude 1) for that test igram (from phase vals)."
   ]
  },
  {
   "cell_type": "code",
   "execution_count": null,
   "metadata": {},
   "outputs": [],
   "source": [
    "igram_test = np.exp(1j*pops12)\n",
    "\n",
    "# plot it to make sure angle(igram_test) is the same as the phases from above.\n",
    "plt.figure(figsize=(5,5),tight_layout=True)\n",
    "plt.imshow(np.angle(igram_test),cmap=seismic2,interpolation='none',vmin=-np.pi,vmax=np.pi)\n",
    "plt.colorbar(); plt.title('igram phase from complex vals')\n",
    "plt.show()\n",
    "print('Yes, this worked. All magnitudes are 1.')"
   ]
  },
  {
   "cell_type": "markdown",
   "metadata": {},
   "source": [
    "Write a function that creates a synthetic igram (complex with mags 1) with inputs:\n",
    "1. given array size\n",
    "2. pop1 percent\n",
    "3. pop1 velocity\n",
    "4. pop2 velocity\n",
    "5. noise level for both pops\n",
    "6. length of the igram in days."
   ]
  },
  {
   "cell_type": "code",
   "execution_count": null,
   "metadata": {},
   "outputs": [],
   "source": [
    "def makeMask(dy,dx,pop1_percent):\n",
    "    # make population mask \n",
    "    random_vals = np.random.normal(0.0,2.0,(dx,dy)) # distribution for selecting given percentage of random pixels \n",
    "    mask = np.zeros((dy,dx))\n",
    "    mask[random_vals<np.percentile(random_vals.flatten(),pop1_percent)] = 1.0 # set pop1 pixels to mask value 1\n",
    "    return mask\n",
    "\n",
    "def synthDateNoise(dy,dx,phs_std)\n",
    "    #random lines here \n",
    "    pop1_to_sample = np.random.normal(0,phs_std,(dy,dx,dt))\n",
    "    pop2_to_sample = np.random.normal(0,phs_std,(dy,dx,dt))\n",
    "\n",
    "def synthIgram(dy,dx,mask,pop1_vel,pop2_vel,phs_std,dt):\n",
    "\n",
    "    #only does vel terms, no noise here \n",
    "\n",
    "    # convert pop1 and pop2 velocities (cm/yr) to phs/igram\n",
    "    pop1_phs = vel2phs(pop1_vel,dt)\n",
    "    pop2_phs = vel2phs(pop2_vel,dt)\n",
    "     \n",
    "    # create sets of synthetic phase values for both pops \n",
    "    pop1_to_sample = np.random.normal(pop1_phs,phs_std,(dy,dx))\n",
    "    pop2_to_sample = np.random.normal(pop2_phs,phs_std,(dy,dx))\n",
    "    # combine them into single igram (still just phas vals though)\n",
    "    pops12 = np.zeros((dy,dx))*np.nan\n",
    "    pops12[mask==1]=pop1_to_sample[mask==1]\n",
    "    pops12[mask==0]=pop2_to_sample[mask==0]\n",
    "\n",
    "    # now make it complex\n",
    "    igram_synth = np.exp(1j*pops12)\n",
    "\n",
    "    # spit it out\n",
    "    return igram_synth"
   ]
  },
  {
   "cell_type": "markdown",
   "metadata": {},
   "source": [
    "Test the function at different pop1 percents."
   ]
  },
  {
   "cell_type": "code",
   "execution_count": null,
   "metadata": {},
   "outputs": [],
   "source": [
    "dy = 100\n",
    "dx = 100\n",
    "pop1_percent = 75\n",
    "pop1_vel = 0.0\n",
    "pop2_vel = -10.0\n",
    "phs_std = 0.0\n",
    "dt = 100\n",
    "\n",
    "# marching through different pop1_percent inputs.\n",
    "mask_10_percent = makeMask(dy,dx,10)\n",
    "pop1_10_percent = synthIgram(dy,dx,mask_10_percent,pop1_vel,pop2_vel,phs_std,dt)\n",
    "mask_25_percent = makeMask(dy,dx,25)\n",
    "pop1_25_percent = synthIgram(dy,dx,mask_25_percent,pop1_vel,pop2_vel,phs_std,dt)\n",
    "mask_50_percent = makeMask(dy,dx,50)\n",
    "pop1_50_percent = synthIgram(dy,dx,mask_50_percent,pop1_vel,pop2_vel,phs_std,dt)\n",
    "mask_75_percent = makeMask(dy,dx,75)\n",
    "pop1_75_percent = synthIgram(dy,dx,mask_75_percent,pop1_vel,pop2_vel,phs_std,dt)\n",
    "\n",
    "plt.figure(figsize=(10,10),tight_layout=True)\n",
    "plt.subplot(2,2,1)\n",
    "plt.imshow(np.angle(pop1_10_percent),cmap=seismic2,interpolation='none',vmin=-np.pi,vmax=np.pi)\n",
    "plt.colorbar(); plt.title('10% pop1')\n",
    "plt.subplot(2,2,2)\n",
    "plt.imshow(np.angle(pop1_25_percent),cmap=seismic2,interpolation='none',vmin=-np.pi,vmax=np.pi)\n",
    "plt.colorbar(); plt.title('25% pop1')\n",
    "plt.subplot(2,2,3)\n",
    "plt.imshow(np.angle(pop1_50_percent),cmap=seismic2,interpolation='none',vmin=-np.pi,vmax=np.pi)\n",
    "plt.colorbar(); plt.title('50% pop1')\n",
    "plt.subplot(2,2,4)\n",
    "plt.imshow(np.angle(pop1_75_percent),cmap=seismic2,interpolation='none',vmin=-np.pi,vmax=np.pi)\n",
    "plt.colorbar(); plt.title('75% pop1')\n",
    "plt.show()\n",
    "\n",
    "print('This seems to be working.')"
   ]
  },
  {
   "cell_type": "markdown",
   "metadata": {},
   "source": [
    "Create a single triplet."
   ]
  },
  {
   "cell_type": "code",
   "execution_count": null,
   "metadata": {},
   "outputs": [],
   "source": [
    "# input variables. Can be the same or different as test above.\n",
    "dy = 100\n",
    "dx = 100\n",
    "pop1_percent = 90\n",
    "pop1_vel = 0.0\n",
    "pop2_vel = 2.0\n",
    "phs_std = 0.5\n",
    "dt = 12\n",
    "\n",
    "# filter size for calculating TPC\n",
    "xlooks = 5\n",
    "ylooks = 5\n",
    "\n",
    "# create a mask for pop1 and pop2 pixels \n",
    "maskForSingleTriplet = makeMask(dy,dx,pop1_percent)\n",
    "\n",
    "# create three igrams: AB, BC (same inputs), and AC (double dt)\n",
    "AB = synthIgram(dy,dx,maskForSingleTriplet,pop1_vel,pop2_vel,phs_std,dt)\n",
    "BC = synthIgram(dy,dx,maskForSingleTriplet,pop1_vel,pop2_vel,phs_std,dt)\n",
    "\n",
    "# THIS DIDN'T WORK: WHY???\n",
    "AC = synthIgram(dy,dx,maskForSingleTriplet,pop1_vel,pop2_vel,phs_std,dt*2) # double the dt which gives double the phs in rad/igram \n",
    "# instead, I'm adding AB and BC and making it complex. \n",
    "AC = np.exp(1j*(np.angle(AB)+np.angle(BC)))\n",
    "\n",
    "# plot them to check.\n",
    "plt.figure(figsize=(12,4),tight_layout=True)\n",
    "plt.subplot(1,3,1)\n",
    "plt.imshow(np.angle(AB),cmap=seismic2,interpolation='none',vmin=-np.pi,vmax=np.pi)\n",
    "plt.colorbar(); plt.title('AB')\n",
    "plt.subplot(1,3,2)\n",
    "plt.imshow(np.angle(BC),cmap=seismic2,interpolation='none',vmin=-np.pi,vmax=np.pi)\n",
    "plt.colorbar(); plt.title('BC')\n",
    "plt.subplot(1,3,3)\n",
    "#plt.imshow(np.angle(AB)+np.angle(BC),cmap=seismic2,interpolation='none',vmin=-np.pi,vmax=np.pi)\n",
    "plt.imshow(np.angle(AC),cmap=seismic2,interpolation='none',vmin=-np.pi,vmax=np.pi)\n",
    "plt.colorbar(); plt.title('AB+BC=AC')\n",
    "plt.show()"
   ]
  },
  {
   "cell_type": "markdown",
   "metadata": {},
   "source": [
    "Plot a histogram of the phases of AB, BC, and AC. They should look similar to Gaussians. "
   ]
  },
  {
   "cell_type": "code",
   "execution_count": null,
   "metadata": {},
   "outputs": [],
   "source": [
    "plt.figure(figsize=(10,3.3),tight_layout=True)\n",
    "bins = np.linspace(-np.pi,np.pi,200)\n",
    "plt.subplot(1,3,1)\n",
    "plt.hist((np.angle(AB).flatten()),bins=bins)\n",
    "plt.title('AB phs')\n",
    "plt.subplot(1,3,2)\n",
    "plt.hist((np.angle(BC).flatten()),bins=bins)\n",
    "plt.title('BC phs')\n",
    "plt.subplot(1,3,3)\n",
    "plt.hist((np.angle(AB)+np.angle(BC)).flatten(),bins=bins)\n",
    "plt.title('AC phs')\n",
    "plt.show()\n",
    "\n",
    "print('AB skew: '+str(scipy.stats.skew((np.angle(AB).flatten()))))\n",
    "print('BC skew: '+str(scipy.stats.skew((np.angle(BC).flatten()))))\n",
    "print('AC skew: '+str(scipy.stats.skew((np.angle(AB)+np.angle(BC)).flatten())))"
   ]
  },
  {
   "cell_type": "markdown",
   "metadata": {},
   "source": [
    "Filter them and calculate TPC for the triplet."
   ]
  },
  {
   "cell_type": "code",
   "execution_count": null,
   "metadata": {},
   "outputs": [],
   "source": [
    "# filter them: real and imag parts separately \n",
    "AB_filt_r = gaussian_filter(np.real(AB),sigma=[xlooks/2,ylooks/2])\n",
    "AB_filt_i = gaussian_filter(np.imag(AB),sigma=[xlooks/2,ylooks/2])\n",
    "AB_filt = AB_filt_r + np.exp(1j*AB_filt_i)\n",
    "BC_filt_r = gaussian_filter(np.real(BC),sigma=[xlooks/2,ylooks/2])\n",
    "BC_filt_i = gaussian_filter(np.imag(BC),sigma=[xlooks/2,ylooks/2])\n",
    "BC_filt = BC_filt_r + np.exp(1j*BC_filt_i)\n",
    "AC_filt_r = gaussian_filter(np.real(AC),sigma=[xlooks/2,ylooks/2])\n",
    "AC_filt_i = gaussian_filter(np.imag(AC),sigma=[xlooks/2,ylooks/2])\n",
    "AC_filt = AC_filt_r + np.exp(1j*AC_filt_i)\n",
    "\n",
    "\n",
    "# calculate TPC\n",
    "ABC_TPC = np.angle(AB_filt) + np.angle(BC_filt) - np.angle(AC_filt)\n",
    "\n",
    "plt.figure(figsize=(10,20),tight_layout=True)\n",
    "plt.subplot(4,2,1)\n",
    "plt.imshow(np.angle(AB),cmap=seismic2,interpolation='none',vmin=-5,vmax=5)\n",
    "plt.colorbar(orientation='vertical',pad=0.03); plt.title('ab')\n",
    "plt.subplot(4,2,2)\n",
    "plt.imshow(np.angle(AB_filt),cmap=seismic2,interpolation='none',vmin=-5,vmax=5)\n",
    "plt.colorbar(orientation='vertical',pad=0.03); plt.title('ab filt')\n",
    "plt.subplot(4,2,3)\n",
    "plt.imshow(np.angle(BC),cmap=seismic2,interpolation='none',vmin=-5,vmax=5)\n",
    "plt.colorbar(orientation='vertical',pad=0.03); plt.title('bc')\n",
    "plt.subplot(4,2,4)\n",
    "plt.imshow(np.angle(BC_filt),cmap=seismic2,interpolation='none',vmin=-5,vmax=5)\n",
    "plt.colorbar(orientation='vertical',pad=0.03); plt.title('bc filt')\n",
    "plt.subplot(4,2,5)\n",
    "plt.imshow(np.angle(AC),cmap=seismic2,interpolation='none',vmin=-5,vmax=5)\n",
    "plt.colorbar(orientation='vertical',pad=0.03); plt.title('ac')\n",
    "plt.subplot(4,2,6)\n",
    "plt.imshow(np.angle(AC_filt),cmap=seismic2,interpolation='none',vmin=-5,vmax=5)\n",
    "plt.colorbar(orientation='vertical',pad=0.03); plt.title('ac filt')\n",
    "plt.subplot(4,2,7)\n",
    "plt.imshow(ABC_TPC,cmap=seismic2,interpolation='none')\n",
    "plt.colorbar(orientation='vertical',pad=0.03); plt.title('TPC')\n",
    "plt.show()"
   ]
  },
  {
   "cell_type": "markdown",
   "metadata": {},
   "source": [
    "Loop over a bunch of triplets, save the BC igram and make it the new AB as we march through time. Accumulate the TPCs. "
   ]
  },
  {
   "cell_type": "code",
   "execution_count": null,
   "metadata": {},
   "outputs": [],
   "source": [
    "cum_TPC = np.zeros((dy,dx))\n",
    "\n",
    "# set the inputs to synthIgram\n",
    "dy = 100\n",
    "dx = 100\n",
    "pop1_percent = 90\n",
    "pop1_vel = 0.0\n",
    "pop2_vel = 2.0\n",
    "phs_std = 0.5\n",
    "dt = 12\n",
    "# filter size\n",
    "xlooks = 5\n",
    "ylooks = 5\n",
    "\n",
    "# make a single mask for pop1 and pop2 pixels: stays the same for the entire loop\n",
    "maskForCumTPC = makeMask(dy,dx,pop1_percent)\n",
    "\n",
    "for i in range(100): # start with 100 triplets\n",
    "    if i==0:\n",
    "        # first time through loop: create all three igrams.\n",
    "        AB = synthIgram(dy,dx,maskForCumTPC,pop1_vel,pop2_vel,phs_std,dt)\n",
    "        BC = synthIgram(dy,dx,maskForCumTPC,pop1_vel,pop2_vel,phs_std,dt)\n",
    "        AC = np.exp(1j*(np.angle(AB)+np.angle(BC)))\n",
    "    else:\n",
    "        # if not the first run, don't need to make AB again. Comes from the old BC\n",
    "        BC = synthIgram(dy,dx,maskForCumTPC,pop1_vel,pop2_vel,phs_std,dt)\n",
    "        AC = np.exp(1j*(np.angle(AB)+np.angle(BC)))\n",
    "\n",
    "    # filter them: real and imag parts separately \n",
    "    AB_filt_r = gaussian_filter(np.real(AB),sigma=[xlooks/2,ylooks/2])\n",
    "    AB_filt_i = gaussian_filter(np.imag(AB),sigma=[xlooks/2,ylooks/2])\n",
    "    AB_filt = AB_filt_r + np.exp(1j*AB_filt_i)\n",
    "    BC_filt_r = gaussian_filter(np.real(BC),sigma=[xlooks/2,ylooks/2])\n",
    "    BC_filt_i = gaussian_filter(np.imag(BC),sigma=[xlooks/2,ylooks/2])\n",
    "    BC_filt = BC_filt_r + np.exp(1j*BC_filt_i)\n",
    "    AC_filt_r = gaussian_filter(np.real(AC),sigma=[xlooks/2,ylooks/2])\n",
    "    AC_filt_i = gaussian_filter(np.imag(AC),sigma=[xlooks/2,ylooks/2])\n",
    "    AC_filt = AC_filt_r + np.exp(1j*AC_filt_i)\n",
    "    # calculate TPC\n",
    "    ABC_TPC = np.angle(AB_filt) + np.angle(BC_filt) - np.angle(AC_filt)\n",
    "    # add it to cumulative TPC array \n",
    "    cum_TPC += ABC_TPC\n",
    "\n",
    "    # now set BC to become the new AB since that igram will be in the next triplet. \n",
    "    AB = BC"
   ]
  },
  {
   "cell_type": "markdown",
   "metadata": {},
   "source": [
    "Calculate pixel density for pop1 to compare with cum TPC map."
   ]
  },
  {
   "cell_type": "code",
   "execution_count": null,
   "metadata": {},
   "outputs": [],
   "source": [
    "pop1_density = gaussian_filter(maskForCumTPC,sigma=[xlooks/2,ylooks/2])"
   ]
  },
  {
   "cell_type": "markdown",
   "metadata": {},
   "source": [
    "Plot the cumulative TPC now."
   ]
  },
  {
   "cell_type": "code",
   "execution_count": null,
   "metadata": {},
   "outputs": [],
   "source": [
    "plt.figure(figsize=(10,5),tight_layout=True)\n",
    "plt.subplot(1,2,1)\n",
    "plt.imshow(pop1_density*100,cmap='gray',interpolation='none')\n",
    "plt.colorbar(label='%'); plt.title('pop1 pixel density, 5x5 window')\n",
    "#plt.title('pop1 '+str(pop1_percent)+'%, white\\npop2 '+str(100-pop1_percent)+'%, black')\n",
    "plt.subplot(1,2,2)\n",
    "plt.imshow(cum_TPC,cmap=seismic2,interpolation='none',vmin=-1,vmax=1)\n",
    "plt.colorbar(label='rad'); plt.title('cum TPC')\n",
    "plt.show()"
   ]
  },
  {
   "cell_type": "code",
   "execution_count": null,
   "metadata": {},
   "outputs": [],
   "source": [
    "wavelength = 5.5465763\n",
    "rad2cm = wavelength/(4*np.pi) \n",
    "\n",
    "print(str(np.mean(cum_TPC))+' rad')\n",
    "print(str(np.mean(cum_TPC)*rad2cm)+' cm')"
   ]
  },
  {
   "cell_type": "markdown",
   "metadata": {},
   "source": [
    "Ok now run that whole cumTPC code with different iterations of pop1_percent, calculate mean and std of the cumTPC for each iteration, plot them. "
   ]
  },
  {
   "cell_type": "code",
   "execution_count": null,
   "metadata": {},
   "outputs": [],
   "source": [
    "# these are the pop1_percent values to loop over \n",
    "percents = np.arange(0,101,1)\n",
    "numPercents = len(percents)\n",
    "\n",
    "# initialize arrays for mean TPC value and sts of TPC for each pop1_percent\n",
    "meanTPC = np.ndarray(np.shape(percents))\n",
    "stdTPC = np.ndarray(np.shape(percents))\n",
    "\n",
    "# set the inputs to synthIgram\n",
    "dy = 100\n",
    "dx = 100\n",
    "pop1_vel = 0\n",
    "pop2_vel = 2.0\n",
    "phs_std = 0.5\n",
    "dt = 12\n",
    "# filter size\n",
    "xlooks = 100\n",
    "ylooks = 100\n",
    "\n",
    "for j in range(numPercents):\n",
    "    \n",
    "    # set the pop1_percent\n",
    "    pop1_percent = percents[j]\n",
    "    # make a single mask for pop1 and pop2 pixels: stays the same for the entire loop\n",
    "    maskForCumTPC = makeMask(dy,dx,pop1_percent)\n",
    "    # start with cumTPCs being zeros \n",
    "    cum_TPC = np.zeros((dy,dx))\n",
    "\n",
    "    # loop through triplets \n",
    "    for i in range(100): # start with 100 triplets\n",
    "        # if i==0:\n",
    "        #     # first time through loop: create all three igrams.\n",
    "        #     AB = synthIgram(dy,dx,maskForCumTPC,pop1_vel,pop2_vel,phs_std,dt)\n",
    "        #     BC = synthIgram(dy,dx,maskForCumTPC,pop1_vel,pop2_vel,phs_std,dt)\n",
    "        #     AC = np.exp(1j*(np.angle(AB)+np.angle(BC)))\n",
    "        # else:\n",
    "        #     # if not the first run, don't need to make AB again. Comes from the old BC\n",
    "        #     BC = synthIgram(dy,dx,maskForCumTPC,pop1_vel,pop2_vel,phs_std,dt)\n",
    "        #     AC = np.exp(1j*(np.angle(AB)+np.angle(BC)))\n",
    "            #AC = AB*BC\n",
    "\n",
    "        AB = np.exp(1j*1.0*maskForCumTPC)\n",
    "        BC = np.copy(AB)\n",
    "        AC = np.exp(1j*2.0*maskForCumTPC)\n",
    "\n",
    "        # filter them: real and imag parts separately \n",
    "        AB_filt_r = gaussian_filter(np.real(AB),sigma=[xlooks/2,ylooks/2])\n",
    "        AB_filt_i = gaussian_filter(np.imag(AB),sigma=[xlooks/2,ylooks/2])\n",
    "        AB_filt = AB_filt_r + np.exp(1j*AB_filt_i)\n",
    "        BC_filt_r = gaussian_filter(np.real(BC),sigma=[xlooks/2,ylooks/2])\n",
    "        BC_filt_i = gaussian_filter(np.imag(BC),sigma=[xlooks/2,ylooks/2])\n",
    "        BC_filt = BC_filt_r + np.exp(1j*BC_filt_i)\n",
    "        AC_filt_r = gaussian_filter(np.real(AC),sigma=[xlooks/2,ylooks/2])\n",
    "        AC_filt_i = gaussian_filter(np.imag(AC),sigma=[xlooks/2,ylooks/2])\n",
    "        AC_filt = AC_filt_r + np.exp(1j*AC_filt_i)\n",
    "        # calculate TPC\n",
    "        ABC_TPC = np.angle(AB_filt) + np.angle(BC_filt) - np.angle(AC_filt)\n",
    "        # add it to cumulative TPC array \n",
    "        cum_TPC += ABC_TPC\n",
    "\n",
    "        # now set BC to become the new AB since that igram will be in the next triplet. \n",
    "        #AB = BC\n",
    "    # now that all triplets are cumulated for a single pop1_percent, put the mean and std of those in their corresponding arrays.\n",
    "    meanTPC[j] = np.mean(cum_TPC)\n",
    "    stdTPC[j] = np.std(cum_TPC)\n",
    "    print('Mean and std of cum TPC values calculated for pop1_percent '+str(pop1_percent))"
   ]
  },
  {
   "cell_type": "markdown",
   "metadata": {},
   "source": [
    "Now plot pop1_percent vs. mean/std of cumTPC."
   ]
  },
  {
   "cell_type": "code",
   "execution_count": null,
   "metadata": {},
   "outputs": [],
   "source": [
    "plt.figure(figsize=(10,4),tight_layout=True)\n",
    "plt.errorbar(percents,meanTPC,stdTPC)\n",
    "plt.xlabel('Population 1 percent of pixels')\n",
    "plt.ylabel('cumulative TPC (rad)')\n",
    "plt.title('pop1_vel '+str(pop1_vel)+', pop2_vel '+str(pop2_vel)+', phs std '+str(phs_std))\n",
    "plt.grid()\n",
    "plt.show()"
   ]
  },
  {
   "cell_type": "code",
   "execution_count": null,
   "metadata": {},
   "outputs": [],
   "source": [
    "def cm2rad(vel): # dt is in days, temporal baseline\n",
    "    radVel = vel*4*np.pi/5.5465763\n",
    "    return radVel"
   ]
  }
 ],
 "metadata": {
  "kernelspec": {
   "display_name": "oliviaJupyter",
   "language": "python",
   "name": "python3"
  },
  "language_info": {
   "codemirror_mode": {
    "name": "ipython",
    "version": 3
   },
   "file_extension": ".py",
   "mimetype": "text/x-python",
   "name": "python",
   "nbconvert_exporter": "python",
   "pygments_lexer": "ipython3",
   "version": "3.11.6"
  },
  "orig_nbformat": 4
 },
 "nbformat": 4,
 "nbformat_minor": 2
}
