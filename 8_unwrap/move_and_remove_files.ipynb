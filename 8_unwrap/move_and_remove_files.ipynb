{
 "cells": [
  {
   "cell_type": "code",
   "execution_count": 1,
   "metadata": {},
   "outputs": [
    {
     "name": "stdout",
     "output_type": "stream",
     "text": [
      "Using default ISCE Path: /home/rlohman/Software/isce-2.2.0/isce\n"
     ]
    }
   ],
   "source": [
    "import os,sys\n",
    "import glob\n",
    "import pandas as pd\n",
    "import math\n",
    "from osgeo import gdal\n",
    "import numpy as np\n",
    "from array import array\n",
    "from scipy  import signal\n",
    "import matplotlib.pyplot as plt\n",
    "import matplotlib.patches as mpatches\n",
    "from scipy.stats import gaussian_kde\n",
    "from scipy.ndimage import gaussian_filter\n",
    "\n",
    "import isce\n",
    "import isceobj\n",
    "from contrib.Snaphu.Snaphu import Snaphu\n",
    "\n",
    "import shutil\n",
    "from imageMath import IML\n",
    "\n",
    "# %matplotlib  widget"
   ]
  },
  {
   "cell_type": "code",
   "execution_count": 2,
   "metadata": {},
   "outputs": [],
   "source": [
    "workdir = '/data/ocp4/LagunaSalada/cropped_9000_1800_18000_3600/'\n",
    "outputdir = str(workdir+'cropped_northern_shore_LS_for_unwrapping/')\n",
    "\n",
    "#outputdir = str(workdir+'test_folder/')\n",
    "\n",
    "# size of full res SLCs\n",
    "dxIN=18000\n",
    "dyIN=3600\n",
    "\n",
    "# load in dates\n",
    "dates = [os.path.basename(x) for x in glob.glob(workdir+\"SLC_vv/2*\")]\n",
    "dates = sorted(dates)\n",
    "nd = len(dates)"
   ]
  },
  {
   "cell_type": "code",
   "execution_count": 7,
   "metadata": {},
   "outputs": [],
   "source": [
    "# loop through the dates \n",
    "for i in range(nd-1): # range(nd-1) if doing all of them at once\n",
    "    # define the 2 dates. \n",
    "    date1=dates[i]\n",
    "    date2=dates[i+1]\n",
    "    \n",
    "    rename_this = outputdir+date1+'_'+date2+'_filt_unwr.int'\n",
    "    name_it_this = outputdir+date1+'_'+date2+'_filt.unw'\n",
    "    shutil.move(rename_this,name_it_this)\n",
    "    \n",
    "    rename_this = outputdir+date1+'_'+date2+'_filt_unwr.int.conncomp'\n",
    "    name_it_this = outputdir+date1+'_'+date2+'_filt.unw.conncomp'\n",
    "    shutil.move(rename_this,name_it_this)\n",
    "\n",
    "    rename_this = outputdir+date1+'_'+date2+'_filt_unwr.int.xml'\n",
    "    name_it_this = outputdir+date1+'_'+date2+'_filt.unw.xml'\n",
    "    shutil.move(rename_this,name_it_this)\n",
    "\n",
    "    rename_this = outputdir+date1+'_'+date2+'_unwr.int'\n",
    "    name_it_this = outputdir+date1+'_'+date2+'.unw'\n",
    "    shutil.move(rename_this,name_it_this)\n",
    "\n",
    "    rename_this = outputdir+date1+'_'+date2+'_unwr.int.conncomp'\n",
    "    name_it_this = outputdir+date1+'_'+date2+'.unw.conncomp'\n",
    "    shutil.move(rename_this,name_it_this)\n",
    "\n",
    "    rename_this = outputdir+date1+'_'+date2+'_unwr.int.xml'\n",
    "    name_it_this = outputdir+date1+'_'+date2+'.unw.xml'\n",
    "    shutil.move(rename_this,name_it_this)"
   ]
  },
  {
   "cell_type": "code",
   "execution_count": 5,
   "metadata": {},
   "outputs": [],
   "source": [
    "# change names of skip1 filtered, unwrapped interferograms \n",
    "# loop through the dates \n",
    "for i in range(nd-2): # range(nd-2) for all of them\n",
    "    # define the 2 dates. \n",
    "    date1=dates[i]\n",
    "    date2=dates[i+2]\n",
    "    rename_this = outputdir+date1+'_'+date2+'_filt_unwr.int'\n",
    "    name_it_this = outputdir+date1+'_'+date2+'_filt.unw'\n",
    "    shutil.move(rename_this,name_it_this)\n",
    "\n",
    "    rename_this = outputdir+date1+'_'+date2+'_filt_unwr.int.conncomp'\n",
    "    name_it_this = outputdir+date1+'_'+date2+'_filt.unw.conncomp'\n",
    "    shutil.move(rename_this,name_it_this)\n",
    "\n",
    "    rename_this = outputdir+date1+'_'+date2+'_filt_unwr.int.xml'\n",
    "    name_it_this = outputdir+date1+'_'+date2+'_filt.unw.xml'\n",
    "    shutil.move(rename_this,name_it_this)"
   ]
  },
  {
   "cell_type": "code",
   "execution_count": 8,
   "metadata": {},
   "outputs": [],
   "source": [
    "outputdir = '/data/ocp4/LagunaSalada/2_coherence/coh_tip_LS_all_igrams/'\n",
    "\n",
    "# loop through the dates \n",
    "for i in np.arange(1,nd-1,1): # range(nd-1) if doing all of them at once\n",
    "    # define the 2 dates. \n",
    "    date1=dates[i]\n",
    "    date2=dates[i+1]\n",
    "    \n",
    "    rename_this = outputdir+'cmplx_coh_'+date1+'-'+date2+'.r4'\n",
    "    name_it_this = outputdir+'coh_'+date1+'_'+date2+'.r4'\n",
    "    shutil.move(rename_this,name_it_this)\n",
    "\n",
    "    rename_this = outputdir+'cmplx_coh_'+date1+'-'+date2+'.r4.xml'\n",
    "    name_it_this = outputdir+'coh_'+date1+'_'+date2+'.r4.xml'\n",
    "    shutil.move(rename_this,name_it_this)"
   ]
  }
 ],
 "metadata": {
  "kernelspec": {
   "display_name": "oliviaJupyter",
   "language": "python",
   "name": "python3"
  },
  "language_info": {
   "codemirror_mode": {
    "name": "ipython",
    "version": 3
   },
   "file_extension": ".py",
   "mimetype": "text/x-python",
   "name": "python",
   "nbconvert_exporter": "python",
   "pygments_lexer": "ipython3",
   "version": "3.9.9"
  },
  "orig_nbformat": 4,
  "vscode": {
   "interpreter": {
    "hash": "4fa1be1bdc77858ae7f715553366090cb9e4a262a14f4183988fd6a5a1f05c5e"
   }
  }
 },
 "nbformat": 4,
 "nbformat_minor": 2
}
