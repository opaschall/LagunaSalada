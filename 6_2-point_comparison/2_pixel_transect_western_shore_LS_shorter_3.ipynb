{
 "cells": [
  {
   "cell_type": "code",
   "execution_count": 1,
   "id": "ae5112bd-afbc-456f-a72e-ebb83441e390",
   "metadata": {
    "tags": []
   },
   "outputs": [],
   "source": [
    "# import stuff\n",
    "import os,sys\n",
    "import glob\n",
    "import pandas\n",
    "from osgeo import gdal\n",
    "import datetime \n",
    "from datetime import datetime\n",
    "from datetime import timedelta\n",
    "from dateutil import parser\n",
    "import numpy as np\n",
    "from scipy.ndimage import uniform_filter, gaussian_filter\n",
    "import matplotlib.pyplot as plt\n",
    "import matplotlib.patches as mpatches\n",
    "from matplotlib import cm\n",
    "from extract_transect import extract_transect\n",
    "from filter_1D_profile_and_unwrap import unwrap_1D\n",
    "# import something specific so that I can set gridlines to 2pi intervals \n",
    "#    without having to specifcy ylim each time I plot a different transect \n",
    "from matplotlib.ticker import MultipleLocator, FormatStrFormatter, AutoMinorLocator\n",
    "import time\n",
    "%matplotlib  widget"
   ]
  },
  {
   "cell_type": "markdown",
   "id": "19d575dc-4242-4647-b86f-527b0d652b00",
   "metadata": {},
   "source": [
    "Set up working directory, locations of pixels for comparison"
   ]
  },
  {
   "cell_type": "code",
   "execution_count": 2,
   "id": "a97ac5cf-26f9-4947-85a4-2ea38ccd9b48",
   "metadata": {},
   "outputs": [],
   "source": [
    "workdir = '/data/ocp4/LagunaSalada/'; cropdir='cropped_9000_1800_18000_3600/'; #cropdir='cropped_9000_20_10000_1780/'\n",
    "alooks=4; rlooks=20\n",
    "#x1=9234   # previously 9962, 9135, 9340, 9962\n",
    "#y1=1345   # previously 1295, 1414, 1410, 1295\n",
    "#x2=10000   # previously 9897, 9897, 9581, 9897\n",
    "#y2=1500   # previously 1484, 1484, 1470, 1484\n",
    "# good spots for initial transect, cross LS shoreline, into open desert, then into mountains \n",
    "#x1=13800; y1=1900; x2=17950; y2=2000\n",
    "# from location of 2-pixel comparison from Andes seminar talk (from notebook \"2_pixel_comparison_western_shore_LS.ipynb\")\n",
    "#x1=14500; y1=1700; x2=16000; y2=1700\n",
    "\n",
    "# test cases\n",
    "#x1=14500; y1=1800; x2=16000; y2=1800 # needs manual corrections\n",
    "#x1=14500; y1=1900; x2=16000; y2=1900 # needs manual corrections \n",
    "#x1=14900; y1=1900; x2=15300; y2=1900\n",
    "#x1=15300; y1=1900; x2=16200; y2=1900\n",
    "#x1=15300; y1=1900; x2=15600; y2=1900\n",
    "#x1=17000; y1=1350; x2=17300; y2=1350\n",
    "x1=9234; y1=1345; x2=10000; y2=1500 # up NE of Laguna Salada, interesting TPC feature, relating to seasonal waterflow off mtns?\n",
    "\n",
    "# currently working on this transect: \n",
    "#x1=17000; y1=1350; x2=17300; y2=1350 # short enough to not need manual corrections"
   ]
  },
  {
   "cell_type": "markdown",
   "id": "0c0535cf-0cb1-4db8-baf7-f071424b902d",
   "metadata": {},
   "source": [
    "Import the dates of the SLCs (as strings, then change to datetime objects)"
   ]
  },
  {
   "cell_type": "code",
   "execution_count": 3,
   "id": "0bbb5107-4595-4495-9402-3856a0bb7659",
   "metadata": {},
   "outputs": [
    {
     "name": "stdout",
     "output_type": "stream",
     "text": [
      "211 dates so far!\n"
     ]
    }
   ],
   "source": [
    "dates = [os.path.basename(x) for x in glob.glob(workdir+cropdir+\"SLC_vv/2*\")]\n",
    "dates=sorted(dates)\n",
    "print(str(len(dates))+' dates so far!')\n",
    "nd=len(dates)\n",
    "#print(type(dates[0])) # these are strings \n",
    "#print(dates)\n",
    "\n",
    "# put these into datetime objects \n",
    "str_dates = [datetime.strptime(date,'%Y%m%d') for date in dates]"
   ]
  },
  {
   "cell_type": "markdown",
   "id": "7524b148-631a-43ba-93e8-62dd278c7657",
   "metadata": {},
   "source": [
    "<br> Plot a map of triplet phase closure to show points spatially and why I chose those locations <br><br>\n",
    "__Note:__ I wanted to load and plot average coherence but I realized I hadn't run Kelly's notebook for my region yet (was still troubleshooting last time I worked on it), so I will work on running that for my region, and will have this notebook plot coherence spatially for displaying my transect points"
   ]
  },
  {
   "cell_type": "code",
   "execution_count": 4,
   "id": "fe8f656b-972e-4c8b-b721-27e7d0786db1",
   "metadata": {
    "tags": []
   },
   "outputs": [
    {
     "ename": "KeyboardInterrupt",
     "evalue": "",
     "output_type": "error",
     "traceback": [
      "\u001b[0;31m---------------------------------------------------------------------------\u001b[0m",
      "\u001b[0;31mKeyboardInterrupt\u001b[0m                         Traceback (most recent call last)",
      "\u001b[0;32m/tmp/ipykernel_38610/1935965803.py\u001b[0m in \u001b[0;36m<module>\u001b[0;34m\u001b[0m\n\u001b[1;32m     21\u001b[0m \u001b[0;31m# now filter them by alooks/rlooks\u001b[0m\u001b[0;34m\u001b[0m\u001b[0;34m\u001b[0m\u001b[0m\n\u001b[1;32m     22\u001b[0m \u001b[0mint12filt\u001b[0m \u001b[0;34m=\u001b[0m \u001b[0muniform_filter\u001b[0m\u001b[0;34m(\u001b[0m\u001b[0;34m(\u001b[0m\u001b[0mint12\u001b[0m\u001b[0;34m)\u001b[0m\u001b[0;34m,\u001b[0m \u001b[0msize\u001b[0m\u001b[0;34m=\u001b[0m\u001b[0;34m[\u001b[0m\u001b[0malooks\u001b[0m\u001b[0;34m,\u001b[0m\u001b[0mrlooks\u001b[0m\u001b[0;34m]\u001b[0m\u001b[0;34m)\u001b[0m\u001b[0;34m\u001b[0m\u001b[0;34m\u001b[0m\u001b[0m\n\u001b[0;32m---> 23\u001b[0;31m \u001b[0mint23filt\u001b[0m \u001b[0;34m=\u001b[0m \u001b[0muniform_filter\u001b[0m\u001b[0;34m(\u001b[0m\u001b[0;34m(\u001b[0m\u001b[0mint23\u001b[0m\u001b[0;34m)\u001b[0m\u001b[0;34m,\u001b[0m \u001b[0msize\u001b[0m\u001b[0;34m=\u001b[0m\u001b[0;34m[\u001b[0m\u001b[0malooks\u001b[0m\u001b[0;34m,\u001b[0m\u001b[0mrlooks\u001b[0m\u001b[0;34m]\u001b[0m\u001b[0;34m)\u001b[0m\u001b[0;34m\u001b[0m\u001b[0;34m\u001b[0m\u001b[0m\n\u001b[0m\u001b[1;32m     24\u001b[0m \u001b[0mint31filt\u001b[0m \u001b[0;34m=\u001b[0m \u001b[0muniform_filter\u001b[0m\u001b[0;34m(\u001b[0m\u001b[0;34m(\u001b[0m\u001b[0mint31\u001b[0m\u001b[0;34m)\u001b[0m\u001b[0;34m,\u001b[0m \u001b[0msize\u001b[0m\u001b[0;34m=\u001b[0m\u001b[0;34m[\u001b[0m\u001b[0malooks\u001b[0m\u001b[0;34m,\u001b[0m\u001b[0mrlooks\u001b[0m\u001b[0;34m]\u001b[0m\u001b[0;34m)\u001b[0m\u001b[0;34m\u001b[0m\u001b[0;34m\u001b[0m\u001b[0m\n\u001b[1;32m     25\u001b[0m \u001b[0;31m# normalizing, didn't change anything\u001b[0m\u001b[0;34m\u001b[0m\u001b[0;34m\u001b[0m\u001b[0m\n",
      "\u001b[0;32m/home/rlohman/Software/anaconda3/envs/oliviaJupyter/lib/python3.9/site-packages/scipy/ndimage/filters.py\u001b[0m in \u001b[0;36muniform_filter\u001b[0;34m(input, size, output, mode, cval, origin)\u001b[0m\n\u001b[1;32m    961\u001b[0m     \u001b[0;32mif\u001b[0m \u001b[0mlen\u001b[0m\u001b[0;34m(\u001b[0m\u001b[0maxes\u001b[0m\u001b[0;34m)\u001b[0m \u001b[0;34m>\u001b[0m \u001b[0;36m0\u001b[0m\u001b[0;34m:\u001b[0m\u001b[0;34m\u001b[0m\u001b[0;34m\u001b[0m\u001b[0m\n\u001b[1;32m    962\u001b[0m         \u001b[0;32mfor\u001b[0m \u001b[0maxis\u001b[0m\u001b[0;34m,\u001b[0m \u001b[0msize\u001b[0m\u001b[0;34m,\u001b[0m \u001b[0morigin\u001b[0m\u001b[0;34m,\u001b[0m \u001b[0mmode\u001b[0m \u001b[0;32min\u001b[0m \u001b[0maxes\u001b[0m\u001b[0;34m:\u001b[0m\u001b[0;34m\u001b[0m\u001b[0;34m\u001b[0m\u001b[0m\n\u001b[0;32m--> 963\u001b[0;31m             uniform_filter1d(input, int(size), axis, output, mode,\n\u001b[0m\u001b[1;32m    964\u001b[0m                              cval, origin)\n\u001b[1;32m    965\u001b[0m             \u001b[0minput\u001b[0m \u001b[0;34m=\u001b[0m \u001b[0moutput\u001b[0m\u001b[0;34m\u001b[0m\u001b[0;34m\u001b[0m\u001b[0m\n",
      "\u001b[0;32m/home/rlohman/Software/anaconda3/envs/oliviaJupyter/lib/python3.9/site-packages/scipy/ndimage/filters.py\u001b[0m in \u001b[0;36muniform_filter1d\u001b[0;34m(input, size, axis, output, mode, cval, origin)\u001b[0m\n\u001b[1;32m    899\u001b[0m                                    origin)\n\u001b[1;32m    900\u001b[0m     \u001b[0;32melse\u001b[0m\u001b[0;34m:\u001b[0m\u001b[0;34m\u001b[0m\u001b[0;34m\u001b[0m\u001b[0m\n\u001b[0;32m--> 901\u001b[0;31m         _nd_image.uniform_filter1d(input.real, size, axis, output.real, mode,\n\u001b[0m\u001b[1;32m    902\u001b[0m                                    numpy.real(cval), origin)\n\u001b[1;32m    903\u001b[0m         _nd_image.uniform_filter1d(input.imag, size, axis, output.imag, mode,\n",
      "\u001b[0;31mKeyboardInterrupt\u001b[0m: "
     ]
    }
   ],
   "source": [
    "# plot a map of triplet phase closure to show where the points are that I chose to compare\n",
    "# x1,y1 shows weird tpc signal\n",
    "# x2,y2 is used as reference point\n",
    "\n",
    "date1='20190112'\n",
    "date2='20190124'\n",
    "date3='20190205'\n",
    "x0=0; dx=18000; y0=0; dy=3600 # changes with different subregion\n",
    "alooks=4; rlooks=20\n",
    "ds = gdal.Open(workdir+\"/\"+cropdir+\"/SLC_vv/\"+date1+\"/\"+date1+\".slc.full\", gdal.GA_ReadOnly)\n",
    "slc1 = ds.GetRasterBand(1).ReadAsArray(x0,y0,dx,dy)\n",
    "ds = gdal.Open(workdir+\"/\"+cropdir+\"/SLC_vv/\"+date2+\"/\"+date2+\".slc.full\", gdal.GA_ReadOnly)\n",
    "slc2 = ds.GetRasterBand(1).ReadAsArray(x0,y0,dx,dy)\n",
    "ds = gdal.Open(workdir+\"/\"+cropdir+\"/SLC_vv/\"+date3+\"/\"+date3+\".slc.full\", gdal.GA_ReadOnly)\n",
    "slc3 = ds.GetRasterBand(1).ReadAsArray(x0,y0,dx,dy)\n",
    "# 4 SLCs, can make 3 sequential igrams\n",
    "int12 = slc1 * np.conj(slc2)\n",
    "int23 = slc2 * np.conj(slc3)\n",
    "# and 2 nonsequential (skip a date)\n",
    "int31 = slc3 * np.conj(slc1)\n",
    "# now filter them by alooks/rlooks \n",
    "int12filt = uniform_filter((int12), size=[alooks,rlooks])\n",
    "int23filt = uniform_filter((int23), size=[alooks,rlooks])\n",
    "int31filt = uniform_filter((int31), size=[alooks,rlooks])\n",
    "# normalizing, didn't change anything \n",
    "#int12filt = np.exp(1j*np.angle(int12filt))\n",
    "#int23filt = np.exp(1j*np.angle(int23filt))\n",
    "#int31filt = np.exp(1j*np.angle(int31filt))\n",
    "tpc123 = np.angle(int12filt*int23filt*int31filt)"
   ]
  },
  {
   "cell_type": "code",
   "execution_count": null,
   "id": "83b46e35-c032-41bb-81e9-842cf2a362e5",
   "metadata": {
    "tags": []
   },
   "outputs": [],
   "source": [
    "plt.figure()\n",
    "plt.imshow(tpc123,vmin=-np.pi/4, vmax=np.pi/4, cmap='seismic', aspect='auto', \\\n",
    "           interpolation='nearest') # previously had cmap='jet'\n",
    "plt.ylabel('azimuth')\n",
    "plt.xlabel('range')\n",
    "plt.title(\"triplet phase closure \\n\"+str(date1)+\"-\"+str(date2)+\"-\"+str(date3))\n",
    "plt.colorbar(label='tpc (radians)')\n",
    "plt.xlim(dx, 0)\n",
    "plt.plot(x1,y1,'go')\n",
    "plt.plot(x2,y2,'ro')\n",
    "line1=([x1,x2],[y1,y2])\n",
    "plt.plot(line1[0],line1[1],'k-')\n",
    "# Zoomed in \n",
    "#plt.xlim([11000,8000]); plt.ylim([1800,1100])\n",
    "#plt.xlim([18000,10000]); plt.ylim([2500,1000]) # good for most tscts\n",
    "\n",
    "plt.xlim([13000,7000]); plt.ylim([2000,1000])\n",
    "plt.show()"
   ]
  },
  {
   "cell_type": "code",
   "execution_count": null,
   "id": "028c72cb-7aab-40de-a049-ec69d141b15c",
   "metadata": {},
   "outputs": [],
   "source": [
    "print(np.sqrt((9583-x1)*(9583-x1)+(1424-y1)*(1424-y1)))"
   ]
  },
  {
   "cell_type": "markdown",
   "id": "02f001c3-f140-4fe9-ad92-65549c5cec36",
   "metadata": {},
   "source": [
    "Testing transect tool with TPC, plotting it. Not usually necessary"
   ]
  },
  {
   "cell_type": "code",
   "execution_count": null,
   "id": "1c323067-c570-4fef-ab23-8f6614b98ca8",
   "metadata": {
    "tags": []
   },
   "outputs": [],
   "source": [
    "# plot a transect of TPC, make sure it works \n",
    "tpcTsct = extract_transect(tpc123, [x1,y1], [x2,y2], 20, 5)\n",
    "tpcTsct = np.real(tpcTsct)\n",
    "#print(tpcTsct)\n",
    "#plt.figure(figsize=(7,2))\n",
    "#plt.plot(tpcTsct[0],tpcTsct[1],'r-',markersize=5)\n",
    "# this should be coherence measure as color \n",
    "#plt.ylabel('tpc'); plt.xlabel('profile dist')\n",
    "#plt.show()"
   ]
  },
  {
   "cell_type": "markdown",
   "id": "d683a3ad-660a-4b9a-9989-41efa2897891",
   "metadata": {},
   "source": [
    "Initialize arrays for SLCs. Put (alooks x rlooks) extracted portion of SLC around each pixel in the arrays. <br> Indexing: [slc, azimuth, range]"
   ]
  },
  {
   "cell_type": "code",
   "execution_count": null,
   "id": "01388d5a-ea42-4f03-80c8-7a7768dc8777",
   "metadata": {
    "tags": []
   },
   "outputs": [],
   "source": [
    "# initializing empty arrays, they are 3 dimensional \n",
    "# will contain a layer for each date with layer containing alooks x rlooks pixels from each SLC\n",
    "slcx1=np.ndarray([len(dates),alooks,rlooks],'complex')\n",
    "slcx2=np.ndarray([len(dates),alooks,rlooks],'complex')\n",
    "# pull out the alooks x rlooks box of pixels from pixel in Cerro Prieto geothermal field  \n",
    "for i in np.arange(nd):\n",
    "    ds = gdal.Open(workdir+cropdir+\"SLC_vv/\"+dates[i]+\"/\"+dates[i]+\".slc.full\", \\\n",
    "                   gdal.GA_ReadOnly)\n",
    "    slcx1[i,:,:] = ds.GetRasterBand(1).ReadAsArray(x1-rlooks/2,y1-alooks/2,rlooks,alooks)\n",
    "# do the same for the pixel just outside of CP geotherm field \n",
    "for i in np.arange(nd):\n",
    "    ds = gdal.Open(workdir+cropdir+\"SLC_vv/\"+dates[i]+\"/\"+dates[i]+\".slc.full\", \\\n",
    "                   gdal.GA_ReadOnly)\n",
    "    slcx2[i,:,:] = ds.GetRasterBand(1).ReadAsArray(x2-rlooks/2,y2-alooks/2,rlooks,alooks)"
   ]
  },
  {
   "cell_type": "markdown",
   "id": "019d364d-952b-4dcc-8430-207b39c687cd",
   "metadata": {},
   "source": [
    "Make SLC dates into time objects (better for plotting). Also calculate differences between dates for later calculating displacement/time (12-day and 6-day pairs)"
   ]
  },
  {
   "cell_type": "code",
   "execution_count": null,
   "id": "db330b99-a829-423b-bdf7-9fd14361c902",
   "metadata": {
    "tags": []
   },
   "outputs": [],
   "source": [
    "# calculate phase change over each igram interval \n",
    "# dates is a list of strings, from cell above.\n",
    "# convert strings to datetime objects \n",
    "slc_dates=[]\n",
    "for i in range(0,len(dates)):\n",
    "    slc_dates.append(datetime.strptime(str(dates[i]).replace('\\n',''), '%Y%m%d'))\n",
    "# calculate dt between slcs \n",
    "dt = np.diff(slc_dates)\n",
    "# these are now timedelta objects\n",
    "# convert to floats \n",
    "dt2 = np.zeros([len(dt),1])\n",
    "for i in range(0,len(dt)):\n",
    "    dt2[i] = dt[i].days"
   ]
  },
  {
   "cell_type": "markdown",
   "id": "e8d52811-9410-4c22-b9a6-1c018d7f76b9",
   "metadata": {},
   "source": [
    "Calculate displacement between 2 pixels in each igram, and the coherence for each igram (average coherence from 2 coherence values, one from each pixel)"
   ]
  },
  {
   "cell_type": "code",
   "execution_count": null,
   "id": "6b5ae07a-72c6-4a2b-9210-4aa7d2c3af58",
   "metadata": {
    "tags": []
   },
   "outputs": [],
   "source": [
    "# initialize empty nd x nd array for storing coherence values for each SLC pair/igram\n",
    "# phase is difference (conjugate) between  at pt 1 and pt 2\n",
    "allphase=np.zeros([nd-1,1])\n",
    "coh=np.zeros([nd-1,1])\n",
    "# assigning integer values to SLC pairs \n",
    "numints = np.cumsum(np.arange(nd))\n",
    "numints=np.max(numints)\n",
    "# what does this do?\n",
    "ids=np.ndarray([numints,2])\n",
    "# making interferograms, looping thru i, j dates \n",
    "for i in np.arange(nd-1):\n",
    "    j = i+1\n",
    "    # is is first date, j is comparison date\n",
    "    # Using this method: <a b*> / <abs(a b*)>\n",
    "    # a b*\n",
    "    ints=slcx1[i,:,:] * np.conj(slcx1[j,:,:])\n",
    "    ints2=slcx2[i,:,:] * np.conj(slcx2[j,:,:])\n",
    "    # take the mean over all the pixels in this area (complex space) complex coherence\n",
    "    # <a b*>\n",
    "    cov=np.mean(ints,axis=(0,1)) # complex number, of which phase is angle \n",
    "    # mag of this is the coherence at that point \n",
    "    cov2=np.mean(ints2,axis=(0,1))\n",
    "    # <abs (a b*)>\n",
    "    intmag=np.mean(np.abs(ints),axis=(0,1))\n",
    "    intmag2=np.mean(np.abs(ints2),axis=(0,1))\n",
    "    # coherence magnitude, simplest way of doing it \n",
    "    # <a b*> / <abs(a b*)>\n",
    "    covw = cov/intmag\n",
    "    covw2 = cov2/intmag2\n",
    "    # put these into a 2-element array\n",
    "    toAvg = [covw, covw2]\n",
    "    # average the two coherence magnitudes from the two points\n",
    "    coh[i] = np.mean(np.abs(toAvg))\n",
    "    # now we have covs at pt 1 and 2 \n",
    "    allphase[i]=np.angle(cov*np.conj(cov2))\n",
    "    # angle instead of mag\n",
    "    #allphase[i,j]=np.angle(covw)  \n",
    "cumulative = np.cumsum(allphase)\n",
    "#CONVERTING RADIANS TO CM \n",
    "# element by element multiplication, just in case\n",
    "#allphase2 = np.multiply(allphase,dt2) # so this is radians/year now\n",
    "dispcm = allphase*5.6/(4*np.pi) # disp/igram\n",
    "ratecm = dispcm*365.25/dt2\n",
    "cumulative2 = np.cumsum(dispcm,0)\n",
    "# try a cumulative sum? See them go up? \n",
    "#print(np.shape(cumulative2))\n",
    "#print(np.shape(disp))\n",
    "avgrate = np.mean(ratecm)\n",
    "print('Average rate = '+str(avgrate)+'cm/yr')"
   ]
  },
  {
   "cell_type": "markdown",
   "id": "4dcf8bf7-f60a-47b4-9cf0-625ee3fa9b28",
   "metadata": {},
   "source": [
    "<br> Plot the disp rate and cumulative disp between the two points, colored by their coherence values. "
   ]
  },
  {
   "cell_type": "code",
   "execution_count": null,
   "id": "d6a8942f-3823-4a5d-acd8-b455b5d4ad9e",
   "metadata": {
    "tags": []
   },
   "outputs": [],
   "source": [
    "#plot disp+cumulative disp between the 2 pixels in cm/yr\n",
    "plt.figure(figsize=(13, 3),layout='tight')\n",
    "ax = plt.subplot(1, 2, 1)\n",
    "# 20190816 is when the 6-day pairs started \n",
    "plt.axvline(x = datetime(2019, 8, 16, 0, 0), color='k', zorder=1)\n",
    "plt.scatter(slc_dates[0:-1], ratecm, c=coh, zorder=2)\n",
    "plt.grid('on')\n",
    "cbar = plt.colorbar()\n",
    "cbar.set_label('coherence')\n",
    "#plt.xlim([np.min(slc_dates), np.max(slc_dates)])\n",
    "plt.ylabel('displacement rate (cm/yr)')\n",
    "ax = plt.subplot(1, 2, 2)\n",
    "plt.scatter(slc_dates[0:-1], cumulative2, c=coh)\n",
    "plt.grid('on')\n",
    "cbar = plt.colorbar()\n",
    "cbar.set_label('coherence')\n",
    "plt.xlabel('time')\n",
    "plt.ylabel('cumulative displacement (cm)')\n",
    "plt.show()\n",
    "# 12-day pairs are less noisy \n",
    "# put a line where switches over from 12-day to 6-day pairs "
   ]
  },
  {
   "cell_type": "markdown",
   "id": "122421da-52a1-432c-bf2a-b9671c99e277",
   "metadata": {},
   "source": [
    "Calculate triplet phase closure at the two pixels (start and end points)"
   ]
  },
  {
   "cell_type": "code",
   "execution_count": null,
   "id": "e74f20ca-5587-4f54-bda9-9d09b3128b76",
   "metadata": {
    "tags": []
   },
   "outputs": [],
   "source": [
    "# calculate triplet phase closure\n",
    "# initialize arrays\n",
    "x1tpc=np.ndarray([len(dates)-2],'complex')\n",
    "x2tpc=np.ndarray([len(dates)-2],'complex')\n",
    "skip1 = slcx1[0:-1,:,:]*np.conj(slcx1[1:,:,:]) # makes igrams first\n",
    "skip2 = slcx1[2:,:,:]*np.conj(slcx1[0:-2,:,:])\n",
    "#####Could normalize all of these by amplitude before taking the mean, tooo!!!\n",
    "#skip1 = skip1/abs(skip1)\n",
    "#skip2 = skip2/abs(skip2)\n",
    "skip1 = np.mean(skip1,axis=(1,2)) # now average them (same as downlooking)\n",
    "skip2 = np.mean(skip2,axis=(1,2))\n",
    "# exclude the 0th term and the last term \n",
    "for i in np.arange(0,nd-2,1):\n",
    "    ab = skip1[i]\n",
    "    bc = skip1[i+1]\n",
    "    ca = skip2[i]\n",
    "    ab = np.exp(1j*np.angle(ab)) # normalizing to length 1\n",
    "    bc = np.exp(1j*np.angle(bc)) # same as bc/abs(bc)\n",
    "    ca = np.exp(1j*np.angle(ca))\n",
    "    x1tpc[i] = ab*bc*ca\n",
    "skip1 = slcx2[0:-1,:,:]*np.conj(slcx2[1:,:,:]) # makes igrams first\n",
    "skip2 = slcx2[2:,:,:]*np.conj(slcx2[0:-2,:,:])\n",
    "#####Could normalize all of these by amplitude before taking the mean, tooo!!!\n",
    "#skip1 = skip1/abs(skip1)\n",
    "#skip2 = skip2/abs(skip2)\n",
    "skip1 = np.mean(skip1,axis=(1,2)) # now average them (same as downlooking)\n",
    "skip2 = np.mean(skip2,axis=(1,2))   \n",
    "for i in np.arange(0,nd-2,1):\n",
    "    ab = skip1[i]\n",
    "    bc = skip1[i+1]\n",
    "    ca = skip2[i]\n",
    "    ab = np.exp(1j*np.angle(ab)) # normalizing to length 1\n",
    "    bc = np.exp(1j*np.angle(bc)) # same as bc/abs(bc)\n",
    "    ca = np.exp(1j*np.angle(ca))\n",
    "    x2tpc[i] = ab*bc*ca"
   ]
  },
  {
   "cell_type": "markdown",
   "id": "63b4a156-df9c-47c2-ac79-9253c75a45c9",
   "metadata": {},
   "source": [
    "Plot cumulative disp btw the points, now colored by TPC at start point "
   ]
  },
  {
   "cell_type": "code",
   "execution_count": null,
   "id": "ca1914dc-649f-45b8-95af-7661845d0392",
   "metadata": {
    "tags": []
   },
   "outputs": [],
   "source": [
    "# plot cumulative displacement but colored by triplet phase closure at start point (on center date I believe)\n",
    "plt.figure(figsize=(14, 3), tight_layout=True)\n",
    "ax = plt.subplot(1, 2, 1)\n",
    "plt.grid('on')\n",
    "# can do one or the other, similar though \n",
    "plt.scatter(slc_dates[1:-1], cumulative2[0:-1], c=np.angle(x1tpc), vmin=-1, vmax=1, cmap='seismic', \\\n",
    "            edgecolors='k')\n",
    "plt.clim(-1,1)\n",
    "#plt.scatter(slc_dates[1:-1], cumulative2[0:-1], c=np.angle(x2tpc))\n",
    "cbar = plt.colorbar()\n",
    "cbar.set_label('triplet phase closure')\n",
    "plt.xlabel('time')\n",
    "plt.ylabel('cumulative displacement (cm)')\n",
    "plt.title('cum disp with tpc at transect start point')\n",
    "ax = plt.subplot(1, 2, 2)\n",
    "plt.grid('on')\n",
    "plt.scatter(slc_dates[1:-1], cumulative2[0:-1], c=np.angle(x2tpc), vmin=-1, vmax=1, cmap='seismic', \\\n",
    "            edgecolors='k')\n",
    "cbar = plt.colorbar()\n",
    "cbar.set_label('triplet phase closure')\n",
    "plt.xlabel('time')\n",
    "plt.ylabel('cumulative displacement (cm)')\n",
    "plt.title('cum disp with tpc at transect end point')\n",
    "plt.show()"
   ]
  },
  {
   "cell_type": "markdown",
   "id": "07bdc81e-f8e6-4d46-91c2-b4db5514cf66",
   "metadata": {},
   "source": [
    "Remember what the start and end points are this time. Can't have negative Dy or Dx, so fix that here.  <br><br>\n",
    "__Still working on this (below)__"
   ]
  },
  {
   "cell_type": "code",
   "execution_count": null,
   "id": "c9804bf7-798e-4d45-b6f1-4ceecf64533c",
   "metadata": {},
   "outputs": [],
   "source": [
    "# Reminder of what transect I'm trying to extract\n",
    "#print('x1 = '+str(x1)+'     y1 = '+str(y1))\n",
    "#print('x2 = '+str(x2)+'     y2 = '+str(y2))\n",
    "#print('Dx = '+str(x2-x1)+'      Dy = '+str(y2-y1))\n",
    "# if either is negative, switch start and end points so that it's positive \n",
    "#if x2-x1 < 0:\n",
    "#    x1new = x2\n",
    "#    x2new = x1\n",
    "#    print('Flipped x1 and x2')\n",
    "#    Dx = x2new-x1new\n",
    "#if y2-y1 < 0:\n",
    "#    y1new = y2\n",
    "#    y2new = y1\n",
    "#    print('Flipped y1 and y2')\n",
    "#    Dy = y2new-y1new\n",
    "#if x2-x1 > 0 or x2-x1==0:\n",
    "#    x1new = x1\n",
    "#    x2new = x2\n",
    "#    Dx = x2new-x1new\n",
    "#if y2-y1 > 0 or y2-y1==0:\n",
    "#    y1new = y1\n",
    "#    y2new = y2\n",
    "#    Dy = y2new-y1new\n",
    "#print('x1 = '+str(x1new)+'     y1 = '+str(y1new))\n",
    "#print('x2 = '+str(x2new)+'     y2 = '+str(y2new))\n",
    "#print('Dx = '+str(Dx)+'      Dy = '+str(Dy))\n",
    "\n",
    "Dy = y2-y1\n",
    "Dx = x2-x1\n",
    "x1new = x1\n",
    "x2new = x2\n",
    "y1new=y1\n",
    "y2new=y2"
   ]
  },
  {
   "cell_type": "markdown",
   "id": "d11e0ff0-f9a5-4d6a-be6c-3273a52e52aa",
   "metadata": {},
   "source": [
    "<br> <br> ***^Need to keep working on this, I just went back to making x2>x1 and y2>y1 for time's sake. I did flip the x and y axes in the final plots for better display, but my code isn't flexible enough yet to be able to put a starting x point that has a smaller pixel value/index than the end point.***"
   ]
  },
  {
   "cell_type": "markdown",
   "id": "02668f8d-da28-4c06-b337-faa766a698ef",
   "metadata": {},
   "source": [
    "<br>Pull the dates of the SLCs we want to use for transect extracting (doesn't have to be all of them, but usually is)"
   ]
  },
  {
   "cell_type": "code",
   "execution_count": null,
   "id": "0b9a9f75-c5bd-4b99-869c-60673ddaacc1",
   "metadata": {
    "tags": []
   },
   "outputs": [],
   "source": [
    "# what slc date do I want to start at? then convert to datetime object.\n",
    "startDate = '20170510' # starting at the very beginning of time series\n",
    "date1 = datetime.strptime(str(startDate).replace('\\n',''), '%Y%m%d')\n",
    "# find which index corresponds to this date: \n",
    "indexDate1 = slc_dates.index(date1)\n",
    "print('starting at slc index '+str(indexDate1))\n",
    "print(slc_dates[indexDate1])\n",
    "# how many slcs do I need to load? \n",
    "numigrams = 210 # this is all of them \n",
    "numSLCs = numigrams+1 # this is all of them \n",
    "# put the dates into an array for plotting \n",
    "# str_dates are already in datetiime objects, just extract the right dates \n",
    "plotDates = str_dates[indexDate1:indexDate1+numigrams]\n",
    "for i in np.arange(len(plotDates)):\n",
    "    plotDates[i] = datetime.strftime(plotDates[i],'%m-%d-%Y')\n",
    "# now plotDates are the slc dates\n",
    "#print(plotDates)"
   ]
  },
  {
   "cell_type": "markdown",
   "id": "3ab23875-5d19-421c-8415-6967a61bd53a",
   "metadata": {},
   "source": [
    "<br> Load the SLCs within the box that encompasses the transect so we can do math on them "
   ]
  },
  {
   "cell_type": "code",
   "execution_count": null,
   "id": "bde76759-ccd5-424d-833a-6158e51f43df",
   "metadata": {
    "tags": []
   },
   "outputs": [],
   "source": [
    "# loop through and load in the slcs, extract the data\n",
    "if Dy > 20:\n",
    "    SLCs=np.ndarray([numSLCs,Dy,Dx],'complex')\n",
    "    # defined above: \n",
    "    print('shape of SLCs array: '+str(np.shape(SLCs)))\n",
    "    # starts at the first date, goes through the number of igrams defined above\n",
    "    for i in np.arange(indexDate1, indexDate1+numSLCs):    \n",
    "        ds = gdal.Open(workdir+cropdir+\"SLC_vv/\"+dates[i]+\"/\"+dates[i]+\".slc.full\", gdal.GA_ReadOnly)\n",
    "        SLCs[i-indexDate1,:,:] = ds.GetRasterBand(1).ReadAsArray(x1new,y1new,Dx,Dy)\n",
    "        #print('slc '+str(i))  \n",
    "    # now we have all the SLCs extracted, make igrams \n",
    "    igrams = SLCs[0:-1,:,:]*np.conj(SLCs[1:,:,:])\n",
    "    print('igrams made for small area')\n",
    "    print('shape of igrams array: '+str(np.shape(igrams)))\n",
    "    #print(type(igrams[0,0,0])) # making sure correct type of data in array \n",
    "# if the transect is horizontal, need to pull out a box that is 20 tall centered on y coord\n",
    "elif Dy == 0:\n",
    "    Dy = 20\n",
    "    SLCs=np.ndarray([numSLCs,Dy,Dx],'complex')\n",
    "    # defined above: \n",
    "    print('shape of SLCs array: '+str(np.shape(SLCs)))\n",
    "    # starts at the first date, goes through the number of igrams defined above\n",
    "    for i in np.arange(indexDate1, indexDate1+numSLCs):    \n",
    "        ds = gdal.Open(workdir+cropdir+\"SLC_vv/\"+dates[i]+\"/\"+dates[i]+\".slc.full\", gdal.GA_ReadOnly)\n",
    "        SLCs[i-indexDate1,:,:] = ds.GetRasterBand(1).ReadAsArray(x1new,y1new-10,Dx,Dy)\n",
    "        #print('slc '+str(i))  \n",
    "    # now we have all the SLCs extracted, make igrams \n",
    "    igrams = SLCs[0:-1,:,:]*np.conj(SLCs[1:,:,:])\n",
    "    print('igrams made for small area')\n",
    "    print('shape of igrams array: '+str(np.shape(igrams)))\n",
    "    #print(type(igrams[0,0,0])) # making sure correct type of data in array "
   ]
  },
  {
   "cell_type": "markdown",
   "id": "30afa2bf-209b-4665-a095-111c31d61786",
   "metadata": {},
   "source": [
    "<br>Plot the extracted region to make sure it looks like part of an igram "
   ]
  },
  {
   "cell_type": "code",
   "execution_count": null,
   "id": "c16800b9-93d6-4e8b-b92f-4a9fa18289f6",
   "metadata": {
    "tags": []
   },
   "outputs": [],
   "source": [
    "# now single igram to make sure it worked \n",
    "plt.figure(figsize=(6, 4))\n",
    "plt.imshow(np.angle(igrams[118]),vmin=-np.pi, vmax=np.pi, cmap='jet', aspect='auto', \\\n",
    "           interpolation='nearest')\n",
    "plt.plot([0,x2-x1],[10,10],'k-')\n",
    "plt.ylabel('azimuth')\n",
    "plt.xlabel('range')\n",
    "plt.colorbar()\n",
    "plt.show()\n",
    "# great, it worked!"
   ]
  },
  {
   "cell_type": "markdown",
   "id": "e87fbb26-49fd-46e2-9899-89eca2dab5c5",
   "metadata": {},
   "source": [
    "Extract and unwrap a single transect with specific parameters to look closely at the noisy/suspicious/improperly unwrapped ones"
   ]
  },
  {
   "cell_type": "code",
   "execution_count": null,
   "id": "05ce7c98-4bcc-4dfa-b567-1f7ff63675ce",
   "metadata": {},
   "outputs": [],
   "source": [
    "# start by just doing one transect to test it \n",
    "igram_to_extract = 73 # commonly issues at 46, 73?, 101, 191?, sometimes 118, 119, 180\n",
    "perpDist = 3\n",
    "binSize = 10\n",
    "if y2-y1 != 0:\n",
    "    start1 = [0,0]\n",
    "    end1 = [x2-x1,y2-y1]\n",
    "    transectTest = extract_transect(igrams[igram_to_extract], start1, end1, perpDist, binSize)\n",
    "elif y2-y1 == 0:\n",
    "    start1 = [0,10]\n",
    "    end1 = [x2-x1,10]\n",
    "    transectTest = extract_transect(igrams[igram_to_extract], start1, end1, perpDist, binSize)\n",
    "# the notes below, which transect does that apply to?\n",
    "# 39 problem at std=4\n",
    "# 73 problem at std=10\n",
    "print('shape of transect '+str(igram_to_extract)+': '+str(np.shape(transectTest)))\n",
    "#now unwrap it\n",
    "unwrappedTest = unwrap_1D(transectTest,10,np.pi)\n",
    "# can play around with std above for specific transects to see what works best \n",
    "print('length of transect test: '+str(np.shape(np.abs(transectTest[1]))))\n",
    "print('length of unwrapped test: '+str(np.shape(unwrappedTest[0])))\n",
    "#print(np.abs(transectTest[1,0:20]))\n",
    "#print(unwrappedTest[1])"
   ]
  },
  {
   "cell_type": "markdown",
   "id": "81d29283-a3db-48ed-a06c-80fd6df28769",
   "metadata": {},
   "source": [
    "<br>Plot the single extracted and unwrapped transect"
   ]
  },
  {
   "cell_type": "code",
   "execution_count": null,
   "id": "2ae17fe3-0972-4739-9f1f-09b785e91875",
   "metadata": {},
   "outputs": [],
   "source": [
    "fig = plt.figure(figsize=(12,4),layout='tight')\n",
    "ax = plt.axes()\n",
    "plt.plot(np.real(transectTest[0]),np.angle(transectTest[1]),'r.',markersize=5,label='wrapped',zorder=10)\n",
    "# this should be coherence measure as color \n",
    "plt.scatter(unwrappedTest[0],unwrappedTest[1],c=np.abs(transectTest[1])[0:-1],vmin=0,vmax=1,label='unwrapped',zorder=5)\n",
    "# see what manually changed transect 73 looks like now\n",
    "#plt.scatter(transect73manual[0],transect73manual[1],c=np.abs(transectTest[1]),vmin=0,vmax=1,label='unwrapped',zorder=5)\n",
    "#plt.scatter(unwrap191[0],unwrap191[1],c=np.abs(transectTest[1]),vmin=0,vmax=1,label='unwrapped',zorder=5)\n",
    "plt.colorbar()\n",
    "ax.set_ylabel('phase'); plt.xlabel('profile dist')\n",
    "plt.legend()\n",
    "ax.grid(which='both',axis='y')\n",
    "# trying to put gridlines every 2pi intervals \n",
    "ax.yaxis.set_major_locator(MultipleLocator(2*np.pi))\n",
    "ax.yaxis.set_minor_locator(AutoMinorLocator(4))\n",
    "plt.title('igram '+str(igram_to_extract)+'    '+str(plotDates[igram_to_extract])+' - '+str(plotDates[igram_to_extract+1]))\n",
    "plt.show()"
   ]
  },
  {
   "cell_type": "markdown",
   "id": "9976b302-44fb-4b4c-a25e-523fcd2807d4",
   "metadata": {},
   "source": [
    "Now loop through the igrams and use the transect tool to extract a transect across each one "
   ]
  },
  {
   "cell_type": "code",
   "execution_count": null,
   "id": "e93cac4d-5eba-4590-8e10-8a5f7eb4c5cc",
   "metadata": {
    "tags": []
   },
   "outputs": [],
   "source": [
    "# set inputs to unwrapping function so it stays consistent \n",
    "perpDist = 3\n",
    "binSize = 10\n",
    "std = 5\n",
    "cutoff = np.pi # can't go any lower than np.pi/4\n",
    "# process all the transects and put them into an array \n",
    "transect1 = extract_transect(igrams[0], start1, end1, perpDist, binSize) # do the first one to get the proper dimensions for initializing big array \n",
    "#print(np.shape(transect1))\n",
    "transectLength = np.shape(transect1)[1]\n",
    "# initialize empty array \n",
    "transects = np.ndarray([numigrams,2,transectLength],'complex')\n",
    "#print(np.shape(transects))\n",
    "transects[0] = transect1\n",
    "print('shape of transects array: '+str(np.shape(transects)))\n",
    "# another one for unwrapped versions\n",
    "UnwrTscts = np.ndarray([numigrams,2,transectLength-1],'complex')\n",
    "UnwrTscts[0] = unwrap_1D(transects[0],std,cutoff)\n",
    "#print(np.shape(UnwrTscts))\n",
    "# cumulative phase transects\n",
    "UnwrTsctsCum = np.ndarray([numigrams,2,transectLength-1],'complex')\n",
    "print('shape of unwrapped transects array: '+str(np.shape(UnwrTsctsCum)))\n",
    "UnwrTsctsCum[0] = UnwrTscts[0]\n",
    "#print(UnwrTsctsCum[0,1])\n",
    "for i in np.arange(1,numigrams):\n",
    "    transects[i] = extract_transect(igrams[i], start1, end1, perpDist, binSize)\n",
    "    # started with std=4, cutoff=np.pi/4 but didn't work well for igram #39, starting on 09-02-2018\n",
    "    # ok now trying larger std, std=6\n",
    "    UnwrTscts[i] = unwrap_1D(transects[i],std,cutoff)\n",
    "    #print(UnwrTscts[i,0,0:12])\n",
    "    #UnwrTsctsCum[i,1] = np.real(UnwrTsctsCum[i-1,1])+np.real(UnwrTscts[i,1])\n",
    "    UnwrTsctsCum[i] = UnwrTscts[i]\n",
    "    UnwrTsctsCum[i,1] = UnwrTsctsCum[i-1,1]+UnwrTscts[i,1]"
   ]
  },
  {
   "cell_type": "markdown",
   "id": "41ee2cc3-24b9-477e-abe8-7048dc1ee70c",
   "metadata": {},
   "source": [
    "Plot ALL igrams in raw form to ***check for unwrapping errors*** and fix (manually or with different parameters) the ones that are bad"
   ]
  },
  {
   "cell_type": "code",
   "execution_count": null,
   "id": "b5da249c-d77b-4602-9f36-9492994c2a88",
   "metadata": {
    "tags": []
   },
   "outputs": [],
   "source": [
    "# Plot all transects at once to peruse through for unwrapping errors/messy data \n",
    "numRows = int(np.ceil(len(plotDates)/2))\n",
    "numTscts = len(plotDates)\n",
    "figAll = plt.figure(figsize=(12,200),tight_layout=True) \n",
    "for k in np.arange(numTscts-1):\n",
    "    axa = plt.subplot(numRows,2,k+1)\n",
    "    axa.set_ylabel('phase')\n",
    "    axa.plot(np.real(transects[k,0,:]),np.angle(transects[k,1,:])-np.angle(transects[k,1,0]),'r.',markersize=5,zorder=10,label='wrapped')\n",
    "    axa.scatter(np.real(UnwrTscts[k,0,:]),np.real(UnwrTscts[k,1,:])-np.real(UnwrTscts[k,1,0]),c=np.abs(transects[k,1])[0:-1],vmin=0,vmax=1,zorder=5,label='unwrapped')\n",
    "    axa.set_title('Igram '+str(k)+': '+str(plotDates[k])+' - '+str(plotDates[k+1]))\n",
    "    #plt.colorbar()\n",
    "    #plt.legend()\n",
    "    # trying to put gridlines every 2pi intervals \n",
    "    axa.yaxis.set_major_locator(MultipleLocator(2*np.pi))\n",
    "    axa.yaxis.set_minor_locator(AutoMinorLocator(4))\n",
    "    axa.grid(which='both',axis='y')\n",
    "plt.show()"
   ]
  },
  {
   "cell_type": "markdown",
   "id": "5cfdeb86-c4ca-4532-b906-e6b38004b165",
   "metadata": {},
   "source": [
    "<br>Make colormaps for plotting transects"
   ]
  },
  {
   "cell_type": "code",
   "execution_count": null,
   "id": "29be7631-5185-45d5-80f1-010aa8dc3dc9",
   "metadata": {
    "tags": []
   },
   "outputs": [],
   "source": [
    "# make colormaps for my plots \n",
    "# helpful: https://matplotlib.org/3.1.0/tutorials/colors/colormap-manipulation.html\n",
    "cmap1 = cm.get_cmap('jet', numigrams)\n",
    "#print(cmap1)\n",
    "plt.figure(figsize=(12, 2), tight_layout=True)\n",
    "plt.subplot(1,2,1)\n",
    "for i in np.arange(numigrams):\n",
    "    #print(cmap1(i))\n",
    "    pt = [1,i]\n",
    "    plt.plot(pt,markersize=10,c=cmap1(i))\n",
    "plt.title('colormap for all igrams')\n",
    "# make a second colormap for my plots \n",
    "cmap2 = cm.get_cmap('jet', 8)\n",
    "#print(cmap2(2))\n",
    "plt.subplot(1,2,2)\n",
    "for i in np.arange(10):\n",
    "    pt = [1,i]\n",
    "    plt.plot(pt,markersize=10,c=cmap2(i))\n",
    "plt.title('colormap with 10 values')\n",
    "plt.show()"
   ]
  },
  {
   "cell_type": "markdown",
   "id": "714ec3f5-7a16-4663-b7b4-a9bdf88e5965",
   "metadata": {},
   "source": [
    "Plot one transect and then plot the next two. Can help with specific problematic transects. Not always necessary."
   ]
  },
  {
   "cell_type": "code",
   "execution_count": null,
   "id": "ef48c5b3-3ea3-4dbe-b675-f7604584340b",
   "metadata": {
    "tags": []
   },
   "outputs": [],
   "source": [
    "# plots the igram transect, the cumulative transect (with the following two), and the coherence along that transect \n",
    "# this is a variable for telling it which igram to plot the transect for \n",
    "k = 73;\n",
    "# plot the transect of igram k with corresponding coherence values \n",
    "fig = plt.figure(figsize=(11, 4), tight_layout=True)\n",
    "ax = plt.axes()\n",
    "ax.set_ylabel('phase')\n",
    "ax.set_xlabel('distance (pixels)')\n",
    "plt.plot(np.real(transects[k,0,:]),np.angle(transects[k,1,:])-np.angle(transects[k,1,0]),'r.',markersize=5,zorder=10,label='wrapped')\n",
    "plt.scatter(np.real(UnwrTscts[k,0,:]),np.real(UnwrTscts[k,1,:])-np.real(UnwrTscts[k,1,0]),c=np.abs(transects[k,1])[0:-1],vmin=0,vmax=1,zorder=5,label='unwrapped')\n",
    "plt.title('Igram '+str(plotDates[k])+' - '+str(plotDates[k+1]))\n",
    "plt.colorbar()\n",
    "plt.legend()\n",
    "# trying to put gridlines every 2pi intervals \n",
    "ax.yaxis.set_major_locator(MultipleLocator(2*np.pi))\n",
    "ax.yaxis.set_minor_locator(AutoMinorLocator(4))\n",
    "ax.grid(which='both',axis='y')\n",
    "plt.show()\n",
    "# plot all the cumulative sequential igrams in the specific period of time \n",
    "fig = plt.figure(figsize=(10, 4), tight_layout=True)\n",
    "ax = plt.axes()\n",
    "plt.ylabel('cumulative phase')\n",
    "plt.xlabel('distance (pixels)')\n",
    "for i in np.arange(k,k+3,1):\n",
    "    #plt.plot(np.real(transects[i,0,:]),np.angle(transects[i,1,:]),'.-',markersize=5,label=dates[i+indexDate1])\n",
    "    plt.plot(np.real(UnwrTsctsCum[i,0,:]),np.real(UnwrTsctsCum[i,1,:])-np.real(UnwrTsctsCum[i,1,0]),'.',c=cmap2(i-k),markersize=5,label=dates[i+indexDate1])\n",
    "plt.title('Igram '+str(plotDates[k])+' - '+str(plotDates[k+1])+' and next two igrams')\n",
    "plt.legend()\n",
    "ax.grid(which='both',axis='y')\n",
    "# trying to put gridlines every 2pi intervals \n",
    "ax.yaxis.set_major_locator(MultipleLocator(2*np.pi))\n",
    "ax.yaxis.set_minor_locator(AutoMinorLocator(4))\n",
    "plt.show()\n",
    "\n",
    "# added 2pi lines so eye can tell which jumps are unwrapping errors \n",
    "# cumulative means nothing if pairs are bad "
   ]
  },
  {
   "cell_type": "markdown",
   "id": "2e065416-f301-49fc-9fe0-2f0458ebc27d",
   "metadata": {},
   "source": [
    "Plot the steps that the unwrapping algorithm uses. May help understand unwrapping issues for some transects. Not always necessary."
   ]
  },
  {
   "cell_type": "code",
   "execution_count": null,
   "id": "1002da9f-c15f-4e79-b640-a727ec989bd7",
   "metadata": {
    "tags": []
   },
   "outputs": [],
   "source": [
    "k=73\n",
    "x=np.real(transects[k,0,:])\n",
    "y=transects[k,1,:]\n",
    "\n",
    "std = 5\n",
    "cutoff = np.pi\n",
    "\n",
    "numPts = len(y)\n",
    "re = np.real(y)\n",
    "im = np.imag(y)\n",
    "phs = np.angle(y)\n",
    "refilt = uniform_filter(re,std)\n",
    "imfilt = uniform_filter(im,std)\n",
    "filtDat = 1j*imfilt + refilt\n",
    "cor = np.real(filtDat)\n",
    "filtPhs = np.angle(filtDat)\n",
    "\n",
    "plt.figure(figsize=(12, 5))\n",
    "plt.axhline(y=np.pi,c='gray')\n",
    "plt.axhline(y=-np.pi,c='gray')\n",
    "plt.axhline(y=0,c='gray')\n",
    "plt.plot(x,phs,'ro',markersize=5,label='phs')\n",
    "plt.plot(x,filtPhs,'go',markersize=5,label='filtPhs')\n",
    "plt.xlabel('distance'); plt.ylabel('phase')\n",
    "plt.legend()\n",
    "#plt.xlim([3000,4000])\n",
    "plt.show()\n",
    "\n",
    "unwrapped = np.ndarray(len(phs)-1,'float')\n",
    "count = 0;\n",
    "for i in np.arange(len(phs)-1):\n",
    "    unwrapped[i] = filtPhs[i]+count\n",
    "    jump = filtPhs[i+1]-filtPhs[i]\n",
    "    if (np.abs(jump) > cutoff): \n",
    "        if (jump > 0):\n",
    "            count -= 2*np.pi\n",
    "        else:\n",
    "            count += 2*np.pi\n",
    "            \n",
    "plt.figure(figsize=(12, 5))\n",
    "plt.axhline(y=np.pi/4,c='gray');plt.axhline(y=-np.pi/4,c='gray');plt.axhline(y=0,c='gray')\n",
    "plt.plot(x,phs,'ro',markersize=5,label='wrapped phs')\n",
    "plt.plot(x,np.angle(filtDat),'go',markersize=5,label='filtered wrapped phs')\n",
    "plt.plot(x[0:-1],unwrapped,'bo',markersize=5,label='unwrapped phs')\n",
    "plt.xlabel('distance'); plt.ylabel('phase')\n",
    "plt.legend()\n",
    "#plt.xlim([3000,4000])\n",
    "plt.show()\n",
    "            \n",
    "dif = unwrapped - filtPhs[0:-1]\n",
    "difAdded = phs[0:-1] + dif \n",
    "rem = np.mod(unwrapped-difAdded+np.pi,2*np.pi)-np.pi\n",
    "rem2 = unwrapped - rem\n",
    "\n",
    "# to vstack, make them (1,n) dimensional \n",
    "newX = x[0:-1]\n",
    "outputX = newX.reshape((1,numPts-1))\n",
    "outputY = rem2.reshape((1,numPts-1))\n",
    "output = np.vstack((outputX,outputY))\n",
    "\n",
    "plt.figure(figsize=(12, 5))\n",
    "plt.axhline(y=np.pi,c='gray');plt.axhline(y=-np.pi,c='gray');plt.axhline(y=0,c='gray')\n",
    "#plt.plot(x,phs,'-ro',markersize=5,label='synthetic raw, wrapped')\n",
    "#plt.plot(x,filtPhs,'-go',markersize=5,label='uniform filtered data, wrapped')\n",
    "#plt.plot(x[0:-1],unwrapped,'-bo',markersize=5,label='unwrapped filtered data')\n",
    "plt.plot(x[0:-1],rem,'ko',markersize=5,label='unwrapped - difference added')\n",
    "plt.plot(x[0:-1],rem2,'go',markersize=5,label='rem2')\n",
    "plt.xlabel('distance'); plt.ylabel('phase')\n",
    "plt.legend()\n",
    "#plt.xlim([3000,4000])\n",
    "plt.show()"
   ]
  },
  {
   "cell_type": "markdown",
   "id": "9c459798-00a9-43f7-9421-46dd5aee3d15",
   "metadata": {
    "tags": []
   },
   "source": [
    "Make manual edits to the transects that aren't right after unwrapping. Not always necessary (not usually necessary for very short transects)."
   ]
  },
  {
   "cell_type": "code",
   "execution_count": null,
   "id": "7d201847-eadd-4848-a515-7b43d8ef7d01",
   "metadata": {
    "tags": []
   },
   "outputs": [],
   "source": [
    "# do this for a specific transect. Skip it otherwise and check manually \n",
    "if x1==14500 and y1==1800 and x2==16000 and y2==1800:\n",
    "    # for igram 73, need to do some edits manually \n",
    "    # putting it back to its original form, closest to zero\n",
    "    transect73 = extract_transect(igrams[73], start1, end1, 10, 10)\n",
    "    unwrap73 = unwrap_1D(transect73,10,1.5*np.pi)\n",
    "    # for igram 46, also need to edit manually \n",
    "    transect46 = extract_transect(igrams[46], start1, end1, 10, 10)\n",
    "    unwrap46 = unwrap_1D(transect46,10,1.5*np.pi)\n",
    "    print('corrected transects 46 and 73.')\n",
    "if x1==14500 and y1==1900 and x2==16000 and y2==1900:\n",
    "    transect46 = extract_transect(igrams[46], start1, end1, 10, 10)\n",
    "    unwrap46 = unwrap_1D(transect46,10,1.5*np.pi)\n",
    "    transect73 = extract_transect(igrams[73], start1, end1, 10, 10)\n",
    "    unwrap73 = unwrap_1D(transect73,5,2*np.pi)\n",
    "    transect101 = extract_transect(igrams[101], start1, end1, 10, 10)\n",
    "    unwrap101 = unwrap_1D(transect101,10,1.5*np.pi)\n",
    "    transect191 = extract_transect(igrams[191], start1, end1, 10, 10)\n",
    "    unwrap191 = unwrap_1D(transect191,10,1.5*np.pi)\n",
    "    print('corrected transects 46, 73, 101, and 191.')"
   ]
  },
  {
   "cell_type": "markdown",
   "id": "063667fc-4263-4a7f-b385-5258d8fdadac",
   "metadata": {
    "tags": []
   },
   "source": [
    "<br>Put the corrected transects back into the big array (only necessary if ran previous cell)"
   ]
  },
  {
   "cell_type": "code",
   "execution_count": null,
   "id": "43692bca-da1c-46c8-8274-3bcc8eabd8cc",
   "metadata": {
    "tags": []
   },
   "outputs": [],
   "source": [
    "# CORRECTING THE FEW TRANSECTS WITH UNWRAPPING ERRORS\n",
    "# putting in the right data to the array so they are all corrected properly \n",
    "# replace with the manually edited/ones that needed different unwrapping parameters\n",
    "if x1==14500 and y1==1800 and x2==16000 and y2==1800:\n",
    "    UnwrTscts[73,1,:] = unwrap73[1]\n",
    "    UnwrTscts[46,1,:] = unwrap46[1]\n",
    "if x1==14500 and y1==1900 and x2==16000 and y2==1900:\n",
    "    UnwrTscts[46,1,:] = unwrap46[1]\n",
    "    UnwrTscts[73,1,:] = unwrap73[1]\n",
    "    UnwrTscts[101,1,:] = unwrap101[1]\n",
    "    UnwrTscts[191,1,:] = unwrap191[1]"
   ]
  },
  {
   "cell_type": "markdown",
   "id": "a0067f9b-3f33-4c2d-b90a-6cad2bb47bee",
   "metadata": {},
   "source": [
    "Plot the corrected transects to make sure it worked <br> These are the ones now in the big array, making sure they got added back in correctly. (only necessary if ran previous two cells). "
   ]
  },
  {
   "cell_type": "code",
   "execution_count": null,
   "id": "d7eb6bbe-0adf-4a83-b7fa-092c890b22b1",
   "metadata": {
    "tags": []
   },
   "outputs": [],
   "source": [
    "if x1==14500 and y1==1800 and x2==16000 and y2==1800:\n",
    "    fig = plt.figure(figsize=(12,3),layout='tight')\n",
    "    ax = plt.axes()\n",
    "    plt.plot(np.real(transects[46,0,:]),np.angle(transects[46,1,:]),'r.',markersize=5,label='wrapped',zorder=10)\n",
    "    plt.scatter(np.real(UnwrTscts[46,0,:]),np.real(UnwrTscts[46,1,:]),c=np.abs(transect46[1])[0:-1],vmin=0,vmax=1,label='unwrapped',zorder=5)\n",
    "    #plt.scatter(np.real(unwrap46[0]),np.real(unwrap46[1]),c=np.abs(transect46[1])[0:-1],vmin=0,vmax=1,label='unwrapped',zorder=5)\n",
    "    plt.colorbar()\n",
    "    ax.set_ylabel('phase'); plt.xlabel('profile dist')\n",
    "    plt.legend()\n",
    "    ax.grid(which='both',axis='y')\n",
    "    # trying to put gridlines every 2pi intervals \n",
    "    ax.yaxis.set_major_locator(MultipleLocator(2*np.pi))\n",
    "    ax.yaxis.set_minor_locator(AutoMinorLocator(4))\n",
    "    plt.title('igram 46    '+str(plotDates[46])+' - '+str(plotDates[46]))\n",
    "    plt.show()\n",
    "    fig = plt.figure(figsize=(12,3),layout='tight')\n",
    "    ax = plt.axes()\n",
    "    plt.plot(np.real(transects[73,0,:]),np.angle(transects[73,1,:]),'r.',markersize=5,label='wrapped',zorder=10)\n",
    "    plt.scatter(np.real(UnwrTscts[73,0,:]),np.real(UnwrTscts[73,1,:]),c=np.abs(transect73[1])[0:-1],vmin=0,vmax=1,label='unwrapped',zorder=5)\n",
    "    #plt.scatter(np.real(unwrap73[0]),np.real(unwrap73[1]),c=np.abs(transect73[1])[0:-1],vmin=0,vmax=1,label='unwrapped',zorder=5)\n",
    "    plt.colorbar()\n",
    "    ax.set_ylabel('phase'); plt.xlabel('profile dist')\n",
    "    plt.legend()\n",
    "    ax.grid(which='both',axis='y')\n",
    "    # trying to put gridlines every 2pi intervals \n",
    "    ax.yaxis.set_major_locator(MultipleLocator(2*np.pi))\n",
    "    ax.yaxis.set_minor_locator(AutoMinorLocator(4))\n",
    "    plt.title('igram 73    '+str(plotDates[73])+' - '+str(plotDates[73]))\n",
    "    plt.show()\n",
    "if x1==14500 and y1==1900 and x2==16000 and y2==1900:\n",
    "    fig = plt.figure(figsize=(12,3),layout='tight')\n",
    "    ax = plt.axes()\n",
    "    plt.plot(np.real(transects[46,0,:]),np.angle(transects[46,1,:]),'r.',markersize=5,label='wrapped',zorder=10)\n",
    "    plt.scatter(np.real(UnwrTscts[46,0,:]),np.real(UnwrTscts[46,1,:]),c=np.abs(transect46[1])[0:-1],vmin=0,vmax=1,label='unwrapped',zorder=5)\n",
    "    #plt.scatter(np.real(unwrap46[0]),np.real(unwrap46[1]),c=np.abs(transect46[1])[0:-1],vmin=0,vmax=1,label='unwrapped',zorder=5)\n",
    "    plt.colorbar()\n",
    "    ax.set_ylabel('phase'); plt.xlabel('profile dist')\n",
    "    plt.legend()\n",
    "    ax.grid(which='both',axis='y')\n",
    "    # trying to put gridlines every 2pi intervals \n",
    "    ax.yaxis.set_major_locator(MultipleLocator(2*np.pi))\n",
    "    ax.yaxis.set_minor_locator(AutoMinorLocator(4))\n",
    "    plt.title('igram 46    '+str(plotDates[46])+' - '+str(plotDates[46]))\n",
    "    plt.show()\n",
    "    fig = plt.figure(figsize=(12,3),layout='tight')\n",
    "    ax = plt.axes()\n",
    "    plt.plot(np.real(transects[73,0,:]),np.angle(transects[73,1,:]),'r.',markersize=5,label='wrapped',zorder=10)\n",
    "    plt.scatter(np.real(UnwrTscts[73,0,:]),np.real(UnwrTscts[73,1,:]),c=np.abs(transect73[1])[0:-1],vmin=0,vmax=1,label='unwrapped',zorder=5)\n",
    "    #plt.scatter(np.real(unwrap73[0]),np.real(unwrap73[1]),c=np.abs(transect73[1])[0:-1],vmin=0,vmax=1,label='unwrapped',zorder=5)\n",
    "    plt.colorbar()\n",
    "    ax.set_ylabel('phase'); plt.xlabel('profile dist')\n",
    "    plt.legend()\n",
    "    ax.grid(which='both',axis='y')\n",
    "    # trying to put gridlines every 2pi intervals \n",
    "    ax.yaxis.set_major_locator(MultipleLocator(2*np.pi))\n",
    "    ax.yaxis.set_minor_locator(AutoMinorLocator(4))\n",
    "    plt.title('igram 73    '+str(plotDates[73])+' - '+str(plotDates[73]))\n",
    "    plt.show()\n",
    "    fig = plt.figure(figsize=(12,3),layout='tight')\n",
    "    ax = plt.axes()\n",
    "    plt.plot(np.real(transects[101,0,:]),np.angle(transects[101,1,:]),'r.',markersize=5,label='wrapped',zorder=10)\n",
    "    plt.scatter(np.real(UnwrTscts[101,0,:]),np.real(UnwrTscts[101,1,:]),c=np.abs(transect101[1])[0:-1],vmin=0,vmax=1,label='unwrapped',zorder=5)\n",
    "    #plt.scatter(np.real(unwrap101[0]),np.real(unwrap101[1]),c=np.abs(transect101[1])[0:-1],vmin=0,vmax=1,label='unwrapped',zorder=5)\n",
    "    plt.colorbar()\n",
    "    ax.set_ylabel('phase'); plt.xlabel('profile dist')\n",
    "    plt.legend()\n",
    "    ax.grid(which='both',axis='y')\n",
    "    # trying to put gridlines every 2pi intervals \n",
    "    ax.yaxis.set_major_locator(MultipleLocator(2*np.pi))\n",
    "    ax.yaxis.set_minor_locator(AutoMinorLocator(4))\n",
    "    plt.title('igram 101    '+str(plotDates[101])+' - '+str(plotDates[101]))\n",
    "    plt.show()\n",
    "    fig = plt.figure(figsize=(12,3),layout='tight')\n",
    "    ax = plt.axes()\n",
    "    plt.plot(np.real(transects[191,0,:]),np.angle(transects[191,1,:]),'r.',markersize=5,label='wrapped',zorder=10)\n",
    "    plt.scatter(np.real(UnwrTscts[191,0,:]),np.real(UnwrTscts[191,1,:]),c=np.abs(transect191[1])[0:-1],vmin=0,vmax=1,label='unwrapped',zorder=5)\n",
    "    #plt.scatter(np.real(unwrap191[0]),np.real(unwrap191[1]),c=np.abs(transect191[1])[0:-1],vmin=0,vmax=1,label='unwrapped',zorder=5)\n",
    "    plt.colorbar()\n",
    "    ax.set_ylabel('phase'); plt.xlabel('profile dist')\n",
    "    plt.legend()\n",
    "    ax.grid(which='both',axis='y')\n",
    "    # trying to put gridlines every 2pi intervals \n",
    "    ax.yaxis.set_major_locator(MultipleLocator(2*np.pi))\n",
    "    ax.yaxis.set_minor_locator(AutoMinorLocator(4))\n",
    "    plt.title('igram 191    '+str(plotDates[191])+' - '+str(plotDates[191]))\n",
    "    plt.show()"
   ]
  },
  {
   "cell_type": "markdown",
   "id": "b8cf9ee6-d487-43e2-b807-ac5516acdec3",
   "metadata": {},
   "source": [
    "Fix the cumulative phase transects to reflect the manual changes we made (only necessary if ran previous three cells)."
   ]
  },
  {
   "cell_type": "code",
   "execution_count": null,
   "id": "1ea9831f-18ca-41df-a5f6-4fa5f964bb48",
   "metadata": {
    "tags": []
   },
   "outputs": [],
   "source": [
    "# Now fix the cumulative phase transects array because it had the bad data included in it up until now \n",
    "# cumulative phase transects\n",
    "# this applies to any transect: universal \n",
    "for i in np.arange(1,numigrams):\n",
    "    UnwrTsctsCum[i] = UnwrTscts[i]\n",
    "    UnwrTsctsCum[i,1] = UnwrTsctsCum[i-1,1]+UnwrTscts[i,1]"
   ]
  },
  {
   "cell_type": "markdown",
   "id": "89b75662-8e1f-4f25-9c51-30c400b38ee5",
   "metadata": {},
   "source": [
    "Plot all sequential igrams, can visually check for obvious phase jumps "
   ]
  },
  {
   "cell_type": "code",
   "execution_count": null,
   "id": "4b4b4e9c-7992-4363-abc5-b31d984bafb0",
   "metadata": {},
   "outputs": [],
   "source": [
    "# plot all the sequential igrams in the specific period of time \n",
    "plt.figure(figsize=(14, 3), tight_layout=True)\n",
    "plt.subplot(1,2,1)\n",
    "plt.ylabel('phase')\n",
    "plt.xlabel('distance (pixels)')\n",
    "for i in np.arange(numigrams):\n",
    "    # subtracting the first value from the transects so they all start at zero\n",
    "    plt.plot(np.real(UnwrTscts[i,0,:]),np.real(UnwrTscts[i,1,:])-np.real(UnwrTscts[i,1,0]),'-',c=cmap1(i),markersize=5,label=dates[i+indexDate1])\n",
    "#plt.xlim([-20,1100])\n",
    "#plt.legend()\n",
    "# plot all the cumulative sequential igrams in the specific period of time \n",
    "plt.subplot(1,2,2)\n",
    "plt.ylabel('cumulative phase')\n",
    "plt.xlabel('distance (pixels)')\n",
    "for i in np.arange(numigrams):\n",
    "    #plt.plot(np.real(transects[i,0,:]),np.angle(transects[i,1,:]),'.-',markersize=5,label=dates[i+indexDate1])\n",
    "    plt.plot(np.real(UnwrTsctsCum[i,0,:]),np.real(UnwrTsctsCum[i,1,:])-np.real(UnwrTsctsCum[i,1,0]),'-',c=cmap1(i),markersize=5,label=dates[i+indexDate1])\n",
    "#plt.xlim([-20,1100])\n",
    "#plt.legend()\n",
    "plt.show()\n",
    "# plot the legend on it's own \n",
    "#plt.figure(figsize=(6, 5), tight_layout=True)\n",
    "#for i in np.arange(numigrams):\n",
    "    #plt.plot(np.real(transects[i,0,:]),np.angle(transects[i,1,:]),'.-',markersize=5,label=dates[i+indexDate1])\n",
    "#    plt.plot([0,1],[0,i],'-',c=cmap1(i),label=dates[i+indexDate1])\n",
    "#plt.xlim([-20,1100])\n",
    "#plt.axhline(y=2*np.pi)\n",
    "#plt.legend()\n",
    "#plt.show()\n",
    "# add 2pi lines so eye can tell which jumps are unwrapping errors \n",
    "# cumulative means nothing if pairs are bad  "
   ]
  },
  {
   "cell_type": "markdown",
   "id": "a58995b8-3918-4864-8271-fb3bbedd7e52",
   "metadata": {},
   "source": [
    "Print out index and corresponding distance along transect to match up where transition(s) between surface types are located"
   ]
  },
  {
   "cell_type": "code",
   "execution_count": null,
   "id": "538ae028-0196-4e0f-8052-c76f77e61173",
   "metadata": {
    "tags": []
   },
   "outputs": [],
   "source": [
    "# distance along transect where surface type changes\n",
    "# around 1205 and 3235\n",
    "for i in range(np.shape(UnwrTsctsCum)[2]):\n",
    "    print('data point '+str(i)+'     dist along tsct: '+str(np.real(UnwrTsctsCum[0,0,i])))\n",
    "# for second transect (what is \"second transect?) that I'm trying, where is the change? Shore of Laguna Salada is at \n",
    "# at data points 120, 323"
   ]
  },
  {
   "cell_type": "markdown",
   "id": "4c258368-8e30-4540-a476-6f711fc323bd",
   "metadata": {},
   "source": [
    "Subtract the last value (value at end point) from each transect to normalize them <br> Also subtract a mean value (mean in open desert) to normalize them"
   ]
  },
  {
   "cell_type": "code",
   "execution_count": null,
   "id": "5e9ac656-ea94-400f-8861-7127a51ae072",
   "metadata": {
    "tags": []
   },
   "outputs": [],
   "source": [
    "print('shape of unwrapped cum transects array: '+str(np.shape(UnwrTsctsCum)))\n",
    "\n",
    "# subtract the last value of each transect \n",
    "UnwrTsctsCumZeroed = np.ndarray(np.shape(UnwrTsctsCum),'complex')\n",
    "for i in np.arange(0,np.shape(UnwrTsctsCum)[0]):\n",
    "    UnwrTsctsCumZeroed[i,1,:] = UnwrTsctsCum[i,1,:]-UnwrTsctsCum[i,1,-1]\n",
    "# now try subtracting the mean value for each transect (mean of the region in open desert)\n",
    "\n",
    "UnwrTsctsCumNorm = np.ndarray(np.shape(UnwrTsctsCum),'complex')\n",
    "if x1==14500 and y1==1800 and x2==16000 and y2==1800:\n",
    "    for i in np.arange(0,np.shape(UnwrTsctsCum)[0]):\n",
    "        UnwrTsctsCumNorm[i,1,:] = UnwrTsctsCum[i,1,:]-np.mean(UnwrTsctsCum[i,1,76:-1])\n",
    "        transition = 76\n",
    "if x1==14500 and y1==1900 and x2==16000 and y2==1900:\n",
    "    for i in np.arange(0,np.shape(UnwrTsctsCum)[0]):\n",
    "        UnwrTsctsCumNorm[i,1,:] = UnwrTsctsCum[i,1,:]-np.mean(UnwrTsctsCum[i,1,58:-1])\n",
    "        transition = 58\n",
    "if x1==14900 and y1==1900 and x2==15300 and y2==1900:\n",
    "    for i in np.arange(0,np.shape(UnwrTsctsCum)[0]):\n",
    "        UnwrTsctsCumNorm[i,1,:] = UnwrTsctsCum[i,1,:]-np.mean(UnwrTsctsCum[i,1,18:-1])\n",
    "        transition = 18\n",
    "if x1==15300 and y1==1900 and x2==16200 and y2==1900:\n",
    "    for i in np.arange(0,np.shape(UnwrTsctsCum)[0]):\n",
    "        UnwrTsctsCumNorm[i,1,:] = UnwrTsctsCum[i,1,:]-np.mean(UnwrTsctsCum[i,1,:])\n",
    "        transition = 0\n",
    "if x1==15300 and y1==1900 and x2==15600 and y2==1900:\n",
    "    for i in np.arange(0,np.shape(UnwrTsctsCum)[0]):\n",
    "        UnwrTsctsCumNorm[i,1,:] = UnwrTsctsCum[i,1,:]-np.mean(UnwrTsctsCum[i,1,:])\n",
    "        transition = 0   \n",
    "if x1==17000 and y1==1350 and x2==17300 and y2==1350:\n",
    "    for i in np.arange(0,np.shape(UnwrTsctsCum)[0]):\n",
    "        UnwrTsctsCumNorm[i,1,:] = UnwrTsctsCum[i,1,:]-np.mean(UnwrTsctsCum[i,1,:])\n",
    "        transition = 0\n",
    "if x1==9234 and y1==1345 and x2==10000 and y2==1500:\n",
    "    for i in np.arange(0,np.shape(UnwrTsctsCum)[0]):\n",
    "        UnwrTsctsCumNorm[i,1,:] = UnwrTsctsCum[i,1,:]-np.mean(UnwrTsctsCum[i,1,35:-1])\n",
    "        transition = 35      \n",
    "print('transition: '+str(transition))\n"
   ]
  },
  {
   "cell_type": "markdown",
   "id": "ee82162c-0290-4f05-b307-e6e7c946cf7f",
   "metadata": {},
   "source": [
    "<br> Plot a pcolor plot. Can toggle (by commenting/uncommenting lines) between raw, last value subtracted, and open desert mean value subtracted"
   ]
  },
  {
   "cell_type": "code",
   "execution_count": null,
   "id": "ca59668b-4582-4882-839e-dd2e68365801",
   "metadata": {},
   "outputs": [],
   "source": [
    "# Plot it in one of three ways using pcolor \n",
    "tsctTick = 25\n",
    "plt.figure(figsize=(12, 10), tight_layout=True)\n",
    "plt.ylabel('date')\n",
    "plt.xlabel('dist along transect (pixels)')\n",
    "\n",
    "# only plot phases but for all igrams and for all distances along transect \n",
    "\n",
    "# raw, not normalized\n",
    "#plt.pcolor(np.real(UnwrTsctsCum[:,1,:]),cmap='jet')\n",
    "#plt.title('Not normalized (vv)\\nstart ('+str(x1)+','+str(y1)+') end: ('+str(x2)+','+str(y2)+ ') larger subregion')\n",
    "\n",
    "# last value of transect subtracted \n",
    "#plt.pcolor(np.real(UnwrTsctsCumZeroed[:,1,:]),cmap='jet') \n",
    "#plt.title('last value of each transect subtracted (vv)\\nstart ('+str(x1)+','+str(y1)+') end: ('+str(x2)+','+str(y2)+ ') larger subregion')\n",
    "\n",
    "# mean value in desert subtracted\n",
    "plt.pcolor(np.real(UnwrTsctsCumNorm[:,1,:]),cmap='jet')\n",
    "plt.title('mean value (in open desert) of each transect subtracted (vv)\\nstart ('+str(x1)+','+str(y1)+') end: ('+str(x2)+','+str(y2)+ ') larger subregion')\n",
    "# put a line where the TPC anomaly ends, is there a difference on each side? \n",
    "# switch this depending on the specific transect and if it crosses a feature you want to mark \n",
    "plt.axvline(x=transition, color='k', linestyle='--')\n",
    "plt.yticks(range(numigrams), plotDates)\n",
    "plt.xticks(np.arange(0,np.shape(UnwrTsctsCum)[2],tsctTick),np.real(UnwrTsctsCum[0,0,::tsctTick]))\n",
    "cbar = plt.colorbar()\n",
    "cbar.set_label('unwrapped cumulative phase (radians)')\n",
    "plt.gca().invert_xaxis()\n",
    "#plt.gca().invert_yaxis()\n",
    "plt.show()"
   ]
  },
  {
   "cell_type": "markdown",
   "id": "22feebf2-fc9a-4c5f-80f6-9b96278f49ae",
   "metadata": {},
   "source": [
    "Plot cumulative phase transects AND coherence pcolor plots side-by-side"
   ]
  },
  {
   "cell_type": "code",
   "execution_count": null,
   "id": "e97326d9-3971-481b-9c02-0e30f797645b",
   "metadata": {},
   "outputs": [],
   "source": [
    "# plot cumulative phase transects (mean in open desert subtracted) and coherence side-by-side\n",
    "plt.figure(figsize=(12, 10), layout='tight') #(14,35) for my large screen\n",
    "plt.subplot(1,2,1)\n",
    "plt.ylabel('date')\n",
    "plt.xlabel('dist along transect (pixels)')\n",
    "# only plot phases but for all igrams and for all distances along transect \n",
    "plt.pcolor(np.real(UnwrTsctsCumNorm[:,1,:]),cmap='jet')\n",
    "# put a line where the TPC anomaly ends, is there a difference on each side? \n",
    "# switch this depending on the specific transect and if it crosses a feature you want to mark \n",
    "plt.axvline(x=transition, color='k', linestyle='--')\n",
    "plt.yticks(range(numigrams), plotDates)\n",
    "plt.xticks(np.arange(0,np.shape(UnwrTsctsCum)[2],tsctTick),np.real(UnwrTsctsCum[0,0,::tsctTick]))\n",
    "cbar = plt.colorbar(orientation=\"horizontal\",pad=0.05) # for big plots, pad=0.02 is good \n",
    "cbar.set_label('unwrapped cumulative phase (radians)')\n",
    "plt.title('mean value (in cuTPC) of each transect subtracted (vv)\\nstart ('+str(x1)+','+str(y1)+') end: ('+str(x2)+','+str(y2)+ ') larger subregion')\n",
    "plt.gca().invert_xaxis()\n",
    "#plt.ylim([0,30])\n",
    "#plt.gca().invert_yaxis()\n",
    "\n",
    "# coherence\n",
    "plt.subplot(1,2,2)\n",
    "#plt.ylabel('date')\n",
    "plt.xlabel('dist along transect (pixels)')\n",
    "# only plot phases but for all igrams and for all distances along transect \n",
    "plt.pcolor(np.abs(transects[:,1,:]),cmap='jet')\n",
    "# put a line where the TPC anomaly ends, is there a difference on each side? \n",
    "# switch this depending on the specific transect and if it crosses a feature you want to mark \n",
    "plt.axvline(x=transition, color='k', linestyle='--')\n",
    "#plt.yticks(range(numigrams), plotDates)\n",
    "plt.yticks([])\n",
    "plt.xticks(np.arange(0,np.shape(UnwrTsctsCum)[2],tsctTick),np.real(UnwrTsctsCum[0,0,::tsctTick]))\n",
    "cbar = plt.colorbar(orientation=\"horizontal\",pad=0.05)\n",
    "cbar.set_label('coherence')\n",
    "plt.title('coherence of each transect (vv)\\nstart ('+str(x1)+','+str(y1)+') end: ('+str(x2)+','+str(y2)+ ') larger subregion')\n",
    "plt.gca().invert_xaxis()\n",
    "#plt.ylim([0,30])\n",
    "#plt.gca().invert_yaxis()\n",
    "plt.show()"
   ]
  },
  {
   "cell_type": "markdown",
   "id": "e66ae685-300b-4a04-89b3-6dfc194c33be",
   "metadata": {},
   "source": [
    "Calculate first column from pcolor plot - last column and see if it gives something similar to cumulative displacement plot between the two points. Compare to plot shown at beginning of notebook"
   ]
  },
  {
   "cell_type": "code",
   "execution_count": null,
   "id": "f74cb519-574b-4364-8cdc-03b5599ea383",
   "metadata": {},
   "outputs": [],
   "source": [
    "# now plot the first column minus the last column to compare to cumulative displacement plot\n",
    "#   which is way at the top of this notebook \n",
    "print('Each unwrapped, cumulative, normalized transect is: '+str(np.shape(UnwrTsctsCumNorm[0,:,:])))\n",
    "# all igram dates, phase data [1], first point [0] and last point [-1]\n",
    "first_last = np.real(UnwrTsctsCumNorm[:,1,0]) - np.real(UnwrTsctsCumNorm[:,1,-1])"
   ]
  },
  {
   "cell_type": "markdown",
   "id": "ddb59e84-d0a7-4781-86b6-e4373112005b",
   "metadata": {},
   "source": [
    "<br>Plot cumulative disp between the two points below so I don't have to scroll all the way up to compare"
   ]
  },
  {
   "cell_type": "code",
   "execution_count": null,
   "id": "f57472bb-0b04-4dda-86ce-816b15613530",
   "metadata": {},
   "outputs": [],
   "source": [
    "#plot disp+cumulative disp between the 2 pixels in cm/yr\n",
    "plt.figure(figsize=(8, 3),layout='tight')\n",
    "plt.scatter(slc_dates[0:-1], cumulative2, c=coh)\n",
    "plt.grid('on')\n",
    "cbar = plt.colorbar()\n",
    "cbar.set_label('coherence')\n",
    "plt.xlabel('time')\n",
    "plt.ylabel('cumulative displacement (cm)')\n",
    "plt.show()\n",
    "# 12-day pairs are less noisy \n",
    "# put a line where switches over from 12-day to 6-day pairs "
   ]
  },
  {
   "cell_type": "code",
   "execution_count": null,
   "id": "adbee2ba-b8a5-462f-8874-b03cd70735ee",
   "metadata": {},
   "outputs": [],
   "source": [
    "plt.figure(figsize=(8, 3),layout='tight')\n",
    "plt.plot(slc_dates[0:-1], first_last,'g.')\n",
    "plt.grid('on')\n",
    "plt.xlabel('time')\n",
    "plt.ylabel('cum disp from unwrapped tscts (rad)')\n",
    "plt.show()"
   ]
  },
  {
   "cell_type": "code",
   "execution_count": null,
   "id": "4d98df89-aee7-406d-a986-dc3b191f164a",
   "metadata": {},
   "outputs": [],
   "source": []
  }
 ],
 "metadata": {
  "kernelspec": {
   "display_name": "Python 3",
   "language": "python",
   "name": "python3"
  },
  "language_info": {
   "codemirror_mode": {
    "name": "ipython",
    "version": 3
   },
   "file_extension": ".py",
   "mimetype": "text/x-python",
   "name": "python",
   "nbconvert_exporter": "python",
   "pygments_lexer": "ipython3",
   "version": "3.9.9"
  }
 },
 "nbformat": 4,
 "nbformat_minor": 5
}
