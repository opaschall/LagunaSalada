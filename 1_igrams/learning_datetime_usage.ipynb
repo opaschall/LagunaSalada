{
 "cells": [
  {
   "cell_type": "markdown",
   "metadata": {},
   "source": [
    "This notebook calculates the difference in days between two SLCs\n",
    "\n",
    "This notebook was organized on 9-26-22\n",
    "\n",
    "***"
   ]
  },
  {
   "cell_type": "markdown",
   "metadata": {},
   "source": [
    "Import stuff. Use conda environment oliviaJupyter."
   ]
  },
  {
   "cell_type": "code",
   "execution_count": 1,
   "metadata": {},
   "outputs": [],
   "source": [
    "import os,sys\n",
    "# import os does this: \"provides a way of using operating system dependent functionality\"\n",
    "# import sys does this: \"lets us access system-specific parameters and functions\"\n",
    "# not sure when these are necessary or not\n",
    "\n",
    "# glob = \"used to return all file paths that match a specific pattern\"\n",
    "# used for file matching \n",
    "import glob \n",
    "# pandas = data analysis library\n",
    "# based on matplotlib and\n",
    "#numpy, makes it simpler to use them\n",
    "import pandas\n",
    "from osgeo import gdal\n",
    "# datetime provides commands to deal with dates and times\n",
    "# which command? \n",
    "#import datetime \n",
    "from datetime import date\n",
    "from datetime import datetime\n",
    "from datetime import timedelta\n",
    "# able to parse most known formats to represent a date/time\n",
    "# this is an extension to datetime \n",
    "from dateutil import parser\n",
    "# numpy is great for working with data\n",
    "import numpy as np\n",
    "# these are filteres for smoothing the image \n",
    "# gaussian vs. uniform filter: see plot I made for differences\n",
    "# are there other filters I could import/use? \n",
    "from scipy.ndimage import gaussian_filter, uniform_filter\n",
    "# for plotting \n",
    "import matplotlib.pyplot as plt\n",
    "# this isn't currently being used, I don't think. Something for visualization in plots.\n",
    "#import matplotlib.patches as mpatches\n",
    "# displays nicely \n",
    "%matplotlib  widget"
   ]
  },
  {
   "cell_type": "markdown",
   "metadata": {},
   "source": [
    "Define working directory, crop directory, dates we want to load in, and filtering window dimensions. "
   ]
  },
  {
   "cell_type": "code",
   "execution_count": 2,
   "metadata": {},
   "outputs": [],
   "source": [
    "workdir = '/data/ocp4/LagunaSalada/'\n",
    "#cropdir='cropped_9000_20_10000_1780/'\n",
    "cropdir='cropped_9000_1800_18000_3600/'\n",
    "\n",
    "date1='20180926'\n",
    "date2='20181231'\n",
    "\n",
    "alooks=4  # azimuth downlooking \n",
    "rlooks=20 # range downlooking "
   ]
  },
  {
   "cell_type": "markdown",
   "metadata": {},
   "source": [
    "Calculate number of days between date1 and date2."
   ]
  },
  {
   "cell_type": "code",
   "execution_count": 10,
   "metadata": {},
   "outputs": [
    {
     "name": "stdout",
     "output_type": "stream",
     "text": [
      "date 1: 20180926\n",
      "date 2: 20181231\n",
      "2018 9 26     2018 12 31\n",
      "96 day pair\n"
     ]
    }
   ],
   "source": [
    "print('date 1: '+date1)\n",
    "print('date 2: '+date2)\n",
    "\n",
    "#NOTE: indexing in python is weird. \n",
    "yr1 = int(date1[:4]) # this means everything before BUT NOT INCLUDING index 4\n",
    "mo1 = int(date1[4:6]) # start at index 4 and go to 6, not including it\n",
    "dy1 = int(date1[6:]) # start at index 6 and go until the end of array \n",
    "yr2 = int(date2[:4])\n",
    "mo2 = int(date2[4:6])\n",
    "dy2 = int(date2[6:])\n",
    "\n",
    "# test that it read the dates correctly \n",
    "print(yr1, mo1, dy1,\"   \", yr2, mo2, dy2)\n",
    "\n",
    "# make these into datetime objects\n",
    "d1 = date(yr1, mo1, dy1)\n",
    "d2 = date(yr2, mo2, dy2)\n",
    "# calculate the difference in days between the two \n",
    "delta = d2 - d1\n",
    "print(str(delta.days)+\" day pair\")"
   ]
  },
  {
   "cell_type": "code",
   "execution_count": null,
   "metadata": {},
   "outputs": [],
   "source": []
  }
 ],
 "metadata": {
  "kernelspec": {
   "display_name": "Python 3.9.9 ('oliviaJupyter')",
   "language": "python",
   "name": "python3"
  },
  "language_info": {
   "codemirror_mode": {
    "name": "ipython",
    "version": 3
   },
   "file_extension": ".py",
   "mimetype": "text/x-python",
   "name": "python",
   "nbconvert_exporter": "python",
   "pygments_lexer": "ipython3",
   "version": "3.9.9"
  },
  "orig_nbformat": 4,
  "vscode": {
   "interpreter": {
    "hash": "4fa1be1bdc77858ae7f715553366090cb9e4a262a14f4183988fd6a5a1f05c5e"
   }
  }
 },
 "nbformat": 4,
 "nbformat_minor": 2
}
