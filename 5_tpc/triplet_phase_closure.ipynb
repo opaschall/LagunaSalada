{
 "cells": [
  {
   "cell_type": "code",
   "execution_count": 1,
   "id": "7893e1a4",
   "metadata": {},
   "outputs": [],
   "source": [
    "# triplet phase closure \n",
    "\n",
    "# use kernel \"myjupyter\"\n",
    "import os,sys\n",
    "import glob\n",
    "import pandas\n",
    "from osgeo import gdal\n",
    "import datetime \n",
    "from datetime import datetime\n",
    "from datetime import timedelta\n",
    "from dateutil import parser\n",
    "import numpy as np\n",
    "import matplotlib.pyplot as plt\n",
    "import matplotlib.patches as mpatches\n",
    "from matplotlib.patches import Rectangle\n",
    "from scipy.ndimage import gaussian_filter, uniform_filter\n",
    "from extract_transect import extract_transect\n",
    "%matplotlib  widget"
   ]
  },
  {
   "cell_type": "code",
   "execution_count": 96,
   "id": "abcafc2d",
   "metadata": {},
   "outputs": [
    {
     "name": "stdout",
     "output_type": "stream",
     "text": [
      "211 dates!\n"
     ]
    }
   ],
   "source": [
    "# how many dates do we have? \n",
    "workdir = '/data/ocp4/LagunaSalada/'\n",
    "# started with alooks=4, rlooks=20\n",
    "alooks=40\n",
    "rlooks=200\n",
    "\n",
    "#cropdir='cropped_9000_20_10000_1780/'\n",
    "cropdir='cropped_9000_1800_18000_3600/'\n",
    "\n",
    "LSx=14500\n",
    "LSy=1800\n",
    "notLSx=16000\n",
    "notLSy=1800\n",
    "\n",
    "# two different points, one has larger magnitude tpc after storm \n",
    "pixx=9962\n",
    "pixy=1295\n",
    "pixx2=9897\n",
    "pixy2=1484\n",
    "\n",
    "# for lab meeting presentation 6-17-22\n",
    "LSx=9234 \n",
    "LSy=1345\n",
    "notLS2=10000\n",
    "notLS2=1500 \n",
    "\n",
    "\n",
    "# for poster 10-30-22\n",
    "LSx=15000\n",
    "LSy=1500\n",
    "notLSx=16500\n",
    "notLSy=1500\n",
    "# these are in agriculture fields \n",
    "#LSx=14000 # this is the point right next to LS with TPC anomaly \n",
    "#LSy=3400\n",
    "#notLSx=5610 # this is an agricultural field \n",
    "#notLSy=965\n",
    "\n",
    "\n",
    "dates = [os.path.basename(x) for x in glob.glob(workdir+cropdir+\"SLC_vv/2*\")]\n",
    "dates=sorted(dates)\n",
    "nd=len(dates)\n",
    "print(str(nd)+' dates!') "
   ]
  },
  {
   "cell_type": "code",
   "execution_count": 97,
   "id": "3a8f8518",
   "metadata": {},
   "outputs": [],
   "source": [
    "# initializing empty arrays, they are 3 dimensional \n",
    "# will contain a layer for each date \n",
    "# with layer containing alooks x rlooks pixels from each SLC\n",
    "LS=np.ndarray([len(dates),alooks,rlooks],'complex')\n",
    "NotLS=np.ndarray([len(dates),alooks,rlooks],'complex')\n",
    "\n",
    "# pull out the alooks x rlooks box of pixels \n",
    "for i in np.arange(nd):\n",
    "    ds = gdal.Open(workdir+cropdir+\"SLC_vv/\"+dates[i]+\"/\"+dates[i]+\".slc.full\", \\\n",
    "                    gdal.GA_ReadOnly)\n",
    "    LS[i,:,:] = ds.GetRasterBand(1).ReadAsArray(LSx-rlooks/2,LSy-alooks/2, \\\n",
    "                                                   rlooks,alooks)\n",
    "\n",
    "# do the same for the pixel just outside of CP geotherm field \n",
    "for i in np.arange(nd):\n",
    "    ds = gdal.Open(workdir+cropdir+\"SLC_vv/\"+dates[i]+\"/\"+dates[i]+\".slc.full\", \\\n",
    "                   gdal.GA_ReadOnly)\n",
    "    NotLS[i,:,:] = ds.GetRasterBand(1).ReadAsArray(notLSx-rlooks/2, \\\n",
    "                                                      notLSy-alooks/2,rlooks,alooks)"
   ]
  },
  {
   "cell_type": "code",
   "execution_count": 98,
   "id": "6d588518",
   "metadata": {},
   "outputs": [],
   "source": [
    "# calculate triplet phase closure\n",
    "# initialize arrays\n",
    "LStpc=np.ndarray([len(dates)-2],'complex')\n",
    "NotLStpc=np.ndarray([len(dates)-2],'complex')\n",
    "\n",
    "#print(np.shape(LStpc)); print(np.shape(NotLStpc))\n",
    "#print(len(np.arange(1,nd,1))); print(nd)\n",
    "\n",
    "skip1 = LS[0:-1,:,:]*np.conj(LS[1:,:,:]) # makes igrams first\n",
    "skip2 = LS[2:,:,:]*np.conj(LS[0:-2,:,:])\n",
    "#####Could normalize all of these by amplitude before taking the mean, tooo!!!\n",
    "#skip1 = skip1/abs(skip1)\n",
    "#skip2 = skip2/abs(skip2)\n",
    "skip1 = np.mean(skip1,axis=(1,2)) # now average them (same as downlooking)\n",
    "skip2 = np.mean(skip2,axis=(1,2))\n",
    "\n",
    "# exclude the 0th term and the last term \n",
    "for i in np.arange(0,nd-2,1):\n",
    "    ab = skip1[i]\n",
    "    bc = skip1[i+1]\n",
    "    ca = skip2[i]\n",
    "    ab = np.exp(1j*np.angle(ab)) # normalizing to length 1\n",
    "    bc = np.exp(1j*np.angle(bc)) # same as bc/abs(bc)\n",
    "    ca = np.exp(1j*np.angle(ca))\n",
    "    LStpc[i] = ab*bc*ca\n",
    "    \n",
    "skip1 = NotLS[0:-1,:,:]*np.conj(NotLS[1:,:,:]) # makes igrams first\n",
    "skip2 = NotLS[2:,:,:]*np.conj(NotLS[0:-2,:,:])\n",
    "#####Could normalize all of these by amplitude before taking the mean, tooo!!!\n",
    "#skip1 = skip1/abs(skip1)\n",
    "#skip2 = skip2/abs(skip2)\n",
    "skip1 = np.mean(skip1,axis=(1,2)) # now average them (same as downlooking)\n",
    "skip2 = np.mean(skip2,axis=(1,2))   \n",
    "    \n",
    "for i in np.arange(0,nd-2,1):\n",
    "    ab = skip1[i]\n",
    "    bc = skip1[i+1]\n",
    "    ca = skip2[i]\n",
    "    ab = np.exp(1j*np.angle(ab)) # normalizing to length 1\n",
    "    bc = np.exp(1j*np.angle(bc)) # same as bc/abs(bc)\n",
    "    ca = np.exp(1j*np.angle(ca))\n",
    "    NotLStpc[i] = ab*bc*ca"
   ]
  },
  {
   "cell_type": "code",
   "execution_count": 99,
   "id": "8dcca8af",
   "metadata": {},
   "outputs": [],
   "source": [
    "# convert date strings to datetime objects \n",
    "slc_dates=[]\n",
    "for i in range(0,len(dates)):\n",
    "    slc_dates.append(datetime.strptime(str(dates[i]).replace('\\n',''), '%Y%m%d'))"
   ]
  },
  {
   "cell_type": "code",
   "execution_count": 100,
   "id": "5914ef0f",
   "metadata": {},
   "outputs": [],
   "source": [
    "# Read in precipitation data and plot it \n",
    "precip = np.loadtxt('/data/ocp4/LagunaSalada/3_precip/precip.txt', delimiter=',', skiprows=3, dtype=str)\n",
    "precipDates = precip[:,0]; precip = precip[:,1]\n",
    "precip = precip.astype(float)\n",
    "# convert to cm from inches \n",
    "precip = precip*2.54\n",
    "\n",
    "# make the dates from precip.txt into datetime objects\n",
    "my_dates=[]\n",
    "for i in range(0,len(precipDates)):\n",
    "    my_dates.append(datetime.strptime(str(precipDates[i]).replace('\\n',''), '%Y-%m-%d'))"
   ]
  },
  {
   "cell_type": "code",
   "execution_count": 101,
   "id": "521634e2",
   "metadata": {},
   "outputs": [],
   "source": [
    "# Calculate average coherence over three SLCs to color each tpc point \n",
    "# initialize empty arrays \n",
    "cohLS = np.zeros([nd])\n",
    "cohNotLS = np.zeros([nd])\n",
    "\n",
    "# calculate coherence for each date/SLC \n",
    "for i in np.arange(nd-1): \n",
    "    # Using this method: <a b*> / <abs(a b*)>\n",
    "    # a b*\n",
    "    ints=LS[i,:,:] * np.conj(LS[i+1,:,:]) # same as skip1\n",
    "    ints2=NotLS[i,:,:] * np.conj(NotLS[i+1,:,:])\n",
    "    # <a b*> / <abs(a b*)> complex coherence \n",
    "    cohLS[i]=np.abs(np.mean(ints,axis=(0,1))/np.mean(np.abs(ints),axis=(0,1))) \n",
    "    cohNotLS[i]=np.abs(np.mean(ints2,axis=(0,1))/np.mean(np.abs(ints2),axis=(0,1)))\n",
    "    \n",
    "# initialize arrays for average coh over 3 dates\n",
    "cohAvgLS = np.zeros([nd-2])\n",
    "cohAvgNotLS = np.zeros([nd-2])\n",
    "\n",
    "# calculate avg coherence for each triplet\n",
    "for i in np.arange(nd-2):\n",
    "    cohAvgLS[i] = np.mean(cohLS[i:i+3])\n",
    "    cohAvgNotLS[i] = np.mean(cohNotLS[i:i+3])"
   ]
  },
  {
   "cell_type": "code",
   "execution_count": 102,
   "id": "2b0e0f31",
   "metadata": {},
   "outputs": [
    {
     "name": "stdout",
     "output_type": "stream",
     "text": [
      "date \t\t       precip > 0.3cm\n",
      "2017-05-10 00:00:00    0.33020000000000005 cm\n",
      "2018-12-07 00:00:00    5.0546 cm\n",
      "2019-09-27 00:00:00    1.4478 cm\n",
      "2019-11-20 00:00:00    2.286 cm\n",
      "2020-02-12 00:00:00    1.1684 cm\n",
      "2020-03-13 00:00:00    0.40640000000000004 cm\n",
      "2020-04-12 00:00:00    0.9906 cm\n",
      "2021-08-11 00:00:00    0.381 cm\n"
     ]
    }
   ],
   "source": [
    "# Read in 2-day precipitation data\n",
    "precip2 = np.loadtxt('/data/ocp4/LagunaSalada/3_precip/precip_2days.txt', dtype='float')\n",
    "\n",
    "# BIGGER STORMS\n",
    "# days with precip > 0.3cm \n",
    "print('date \\t\\t       precip > 0.3cm')\n",
    "rain_dates = []\n",
    "for i in np.arange(len(precip2)): \n",
    "    if precip2[i] > 0.3:\n",
    "        print(str(slc_dates[i])+'    '+str(precip2[i])+' cm')\n",
    "        rain_dates.append(slc_dates[i])"
   ]
  },
  {
   "cell_type": "code",
   "execution_count": 106,
   "id": "445a1782",
   "metadata": {
    "tags": []
   },
   "outputs": [
    {
     "data": {
      "application/vnd.jupyter.widget-view+json": {
       "model_id": "9f282ac7c6994f708b2212063fea2825",
       "version_major": 2,
       "version_minor": 0
      },
      "image/png": "[encoded data removed]",
      "text/html": [
       "\n",
       "            <div style=\"display: inline-block;\">\n",
       "                <div class=\"jupyter-widgets widget-label\" style=\"text-align: center;\">\n",
       "                    Figure\n",
       "                </div>\n",
       "                <img src='data:image/png;base64,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' width=600.0/>\n",
       "            </div>\n",
       "        "
      ],
      "text/plain": [
       "Canvas(toolbar=Toolbar(toolitems=[('Home', 'Reset original view', 'home', 'home'), ('Back', 'Back to previous …"
      ]
     },
     "metadata": {},
     "output_type": "display_data"
    }
   ],
   "source": [
    "# plot it\n",
    "plt.figure(figsize=(6, 2), tight_layout=True)\n",
    "ax = plt.subplot(1, 1, 1)\n",
    "ax.set_ylabel('TPC (rad)')\n",
    "#plt.xlabel('time')\n",
    "#ax.plot(slc_dates[1:-1],np.angle(LStpc),'ko',ms=4,label='pixel in TPC anomaly')\n",
    "#ax.plot(slc_dates[1:-1],np.angle(NotLStpc),'wo',ms=4,mec='k', \\\n",
    "#        label='pixel outside of TPC anomaly')\n",
    "#ax.plot(slc_dates[1:-1],np.angle(LStpc),'.-',ms=5,color='purple', \\\n",
    "#        linewidth=0.5,label='Laguna Salada',zorder=3)\n",
    "ax.plot(slc_dates[1:-1],np.angle(NotLStpc),'.-',ms=5,color='darkorange', \\\n",
    "        linewidth=0.5,label='open desert',zorder=10)\n",
    "Ymin,Ymax = plt.gca().get_ylim()\n",
    "plt.vlines(rain_dates,Ymin,Ymax,'gray',':',zorder=0)\n",
    "plt.ylim([Ymin,Ymax])\n",
    "#plt.xlim([slc_dates[1],slc_dates[-1]])\n",
    "\n",
    "ax.grid('on')\n",
    "#plt.legend(bbox_to_anchor=(0.25, 1)) #plt.legend(loc='upper left')\n",
    "plt.legend()\n",
    "\n",
    "#zoomed in \n",
    "#plt.xlim([datetime(2019, 7, 1, 0, 0), datetime(2020, 7, 1, 0, 0)])\n",
    "#ax2 = ax.twinx()\n",
    "#ax2.plot(my_dates,precip,'-b')\n",
    "#plt.ylabel('precipitation (cm)')\n",
    "plt.show()\n",
    "plt.savefig(\"tpc_time_desert.png\", transparent=True)"
   ]
  },
  {
   "cell_type": "code",
   "execution_count": 89,
   "id": "4faa2da8",
   "metadata": {},
   "outputs": [
    {
     "name": "stdout",
     "output_type": "stream",
     "text": [
      "-18.436709307877983\n"
     ]
    }
   ],
   "source": [
    "print(np.sum(np.angle(LStpc)))"
   ]
  },
  {
   "cell_type": "code",
   "execution_count": null,
   "id": "ac9056e8",
   "metadata": {
    "tags": []
   },
   "outputs": [],
   "source": [
    "# Calculate average values \n",
    "avgLS = np.mean(np.angle(LStpc))\n",
    "avgNotLS = np.mean(np.angle(NotLStpc))\n",
    "\n",
    "print(\"Average triplet phase closure in LS: \"+str(avgLS))\n",
    "print(\"Average triplet phase closure out of LS: \"+str(avgNotLS))"
   ]
  },
  {
   "cell_type": "code",
   "execution_count": null,
   "id": "09cfb5d6",
   "metadata": {
    "tags": []
   },
   "outputs": [],
   "source": [
    "# ZOOMED IN on Y-axis and plot horizontal line at zero\n",
    "plt.figure(figsize=(8, 4), tight_layout=True)\n",
    "ax = plt.subplot(1, 1, 1)\n",
    "# alpha=0.5 gives it half transparency (1 is opaque, 0 is transparent)\n",
    "ax.axhline(y=0,color='k', zorder=1, alpha=0.5) \n",
    "ax.set_ylabel('triplet phase closure')\n",
    "#ax.set_ylim([-0.2,0.2])\n",
    "plt.xlabel('time')\n",
    "plt.plot(slc_dates[1:-1],np.angle(LStpc),'r-')\n",
    "plt.scatter(slc_dates[1:-1],np.angle(LStpc),c=cohAvgLS,label='pixel in Laguna Salada',zorder=3)\n",
    "#ax.plot(slc_dates[1:-1],np.angle(NotLStpc),c=cohAvgNotLS,mec='k', \\\n",
    "#        label='pixel outside of Laguna Salada')\n",
    "cbar = plt.colorbar(pad=0.08)\n",
    "cbar.set_label('avg coherence over 3 dates')\n",
    "#ax.grid('on')\n",
    "#plt.legend(bbox_to_anchor=(0.25, 1)) #plt.legend(loc='upper left')\n",
    "ax2 = ax.twinx()\n",
    "ax2.plot(my_dates,precip,'-b',zorder=2)\n",
    "plt.ylabel('precipitation (cm)')\n",
    "plt.show()"
   ]
  },
  {
   "cell_type": "code",
   "execution_count": null,
   "id": "2f4a0251",
   "metadata": {
    "tags": []
   },
   "outputs": [],
   "source": [
    "# try uniform and gaussian filter and plot them \n",
    "LStpcUniformFilt = uniform_filter(LStpc, size=5)\n",
    "LStpcGauFilt = gaussian_filter(LStpc, sigma=5)\n",
    "\n",
    "plt.figure(figsize=(8, 4), tight_layout=True)\n",
    "ax = plt.subplot(1, 1, 1)\n",
    "ax.axhline(y=0,color='k') # WHY DOES THIS PLOT ON TOP?\n",
    "ax.set_ylabel('triplet phase closure')\n",
    "#ax.set_ylim([-0.15,0.15])\n",
    "plt.xlabel('time')\n",
    "plt.scatter(slc_dates[1:-1],np.angle(LStpc),c=cohAvgLS,label='pixel in Laguna Salada')\n",
    "#ax.plot(slc_dates[1:-1],np.angle(NotLStpc),c=cohAvgNotLS,mec='k', \\\n",
    "#        label='pixel outside of Laguna Salada')\n",
    "cbar = plt.colorbar()\n",
    "cbar.set_label('avg coherence over 3 dates')\n",
    "ax.plot(slc_dates[1:-1],np.angle(LStpcGauFilt),'r-',label='Gaussian filter')\n",
    "#ax.grid('on')\n",
    "#plt.legend(bbox_to_anchor=(0.25, 1)) \n",
    "plt.legend(loc='lower right')\n",
    "#ax2 = ax.twinx()\n",
    "#ax2.plot(my_dates,precip,'-b')\n",
    "#plt.ylabel('precipitation (cm)')\n",
    "plt.title('Gaussian filter, sigma=5')\n",
    "plt.show()"
   ]
  },
  {
   "cell_type": "markdown",
   "id": "f997625b",
   "metadata": {},
   "source": [
    "IDEA?: \n",
    "color triplet phase closure by average rainfall in that date range "
   ]
  },
  {
   "cell_type": "code",
   "execution_count": null,
   "id": "c99974fc",
   "metadata": {},
   "outputs": [],
   "source": [
    "# try plotting triplet phase closure during 2018 storm \n",
    "# over full region spatially \n",
    "date1='20181113'\n",
    "date2='20181125'\n",
    "date3='20181207'\n",
    "date4='20181219'\n",
    "\n",
    "x1=0; dx=18000; y1=0; dy=3600\n",
    "alooks=4; rlooks=20\n",
    "\n",
    "ds = gdal.Open(workdir+\"/\"+cropdir+\"/SLC_vv/\"+date1+\"/\"+date1+\".slc.full\", gdal.GA_ReadOnly)\n",
    "slc1 = ds.GetRasterBand(1).ReadAsArray(x1,y1,dx,dy)\n",
    "ds = gdal.Open(workdir+\"/\"+cropdir+\"/SLC_vv/\"+date2+\"/\"+date2+\".slc.full\", gdal.GA_ReadOnly)\n",
    "slc2 = ds.GetRasterBand(1).ReadAsArray(x1,y1,dx,dy)\n",
    "ds = gdal.Open(workdir+\"/\"+cropdir+\"/SLC_vv/\"+date3+\"/\"+date3+\".slc.full\", gdal.GA_ReadOnly)\n",
    "slc3 = ds.GetRasterBand(1).ReadAsArray(x1,y1,dx,dy)\n",
    "ds = gdal.Open(workdir+\"/\"+cropdir+\"/SLC_vv/\"+date4+\"/\"+date4+\".slc.full\", gdal.GA_ReadOnly)\n",
    "slc4 = ds.GetRasterBand(1).ReadAsArray(x1,y1,dx,dy)\n",
    "\n",
    "# 4 SLCs, can make 3 sequential igrams\n",
    "int12 = slc1 * np.conj(slc2)\n",
    "int23 = slc2 * np.conj(slc3)\n",
    "int34 = slc3 * np.conj(slc4)\n",
    "# and 2 nonsequential (skip a date)\n",
    "int31 = slc3 * np.conj(slc1)\n",
    "int42 = slc4 * np.conj(slc2)\n",
    "\n",
    "# normalizing, didn't change anything \n",
    "int12 = np.exp(1j*np.angle(int12))\n",
    "int23 = np.exp(1j*np.angle(int23))\n",
    "int34 = np.exp(1j*np.angle(int34))\n",
    "int31 = np.exp(1j*np.angle(int31))\n",
    "int42 = np.exp(1j*np.angle(int42))\n",
    "\n",
    "\n",
    "# now filter them by alooks/rlooks \n",
    "int12filt = uniform_filter((int12), size=[alooks,rlooks])\n",
    "int23filt = uniform_filter((int23), size=[alooks,rlooks])\n",
    "int34filt = uniform_filter((int34), size=[alooks,rlooks])\n",
    "int31filt = uniform_filter((int31), size=[alooks,rlooks])\n",
    "int42filt = uniform_filter((int42), size=[alooks,rlooks])\n",
    "\n",
    "tpc123 = np.angle(int12filt*int23filt*int31filt)\n",
    "tpc234 = np.angle(int23filt*int34filt*int42filt)\n"
   ]
  },
  {
   "cell_type": "code",
   "execution_count": null,
   "id": "055848fe",
   "metadata": {
    "tags": []
   },
   "outputs": [],
   "source": [
    "# plot tpc \n",
    "plt.figure(figsize=(8, 4))\n",
    "\n",
    "plt.subplot(1,2,1)\n",
    "plt.imshow(tpc123,vmin=-np.pi/4, vmax=np.pi/4, cmap='seismic', aspect='auto', \\\n",
    "           interpolation='nearest')\n",
    "plt.ylabel('azimuth')\n",
    "plt.xlabel('range')\n",
    "plt.title(\"triplet phase closure \\n\"+str(date1)+\"-\"+str(date2)+\"-\"+str(date3))\n",
    "plt.colorbar()\n",
    "plt.xlim(dx, 0)\n",
    "\n",
    "plt.subplot(1,2,2)\n",
    "plt.imshow(tpc234,vmin=-np.pi/4, vmax=np.pi/4, cmap='seismic', aspect='auto', \\\n",
    "           interpolation='nearest')\n",
    "plt.xlabel('range')\n",
    "plt.title(\"triplet phase closure \\n\"+str(date2)+\"-\"+str(date3)+\"-\"+str(date4))\n",
    "plt.colorbar()\n",
    "plt.xlim(dx, 0)\n",
    "plt.show()"
   ]
  },
  {
   "cell_type": "code",
   "execution_count": null,
   "id": "49097691",
   "metadata": {},
   "outputs": [],
   "source": [
    "# average across this scene for each date triplet:\n",
    "print(str(date1)+\"-\"+str(date2)+\"-\"+str(date3)+\" average = \"+str(np.mean(tpc123)))\n",
    "print(str(date2)+\"-\"+str(date3)+\"-\"+str(date4)+\" average = \"+str(np.mean(tpc234)))\n",
    "\n",
    "# what is the average triplet phase closure just in 2018? \n",
    "    # is this the right calculation?\n",
    "tpc2018 = np.mean(np.angle(LStpc[19:50]))\n",
    "print(\"for 2018: \"+str(tpc2018))"
   ]
  },
  {
   "cell_type": "markdown",
   "id": "5d15cbc8",
   "metadata": {},
   "source": [
    "\n",
    "\n",
    "\n",
    "\n",
    "The big rain was on 12-7-2018"
   ]
  },
  {
   "cell_type": "code",
   "execution_count": null,
   "id": "b28e2781",
   "metadata": {},
   "outputs": [],
   "source": [
    "# try plotting triplet phase closure AFTER 2018 storm FOR REFERENCE\n",
    "# over full region spatially \n",
    "date1='20181020'\n",
    "date2='20181101'\n",
    "date3='20181113'\n",
    "date4='20181125'\n",
    "\n",
    "date1='20190112'\n",
    "date2='20190124'\n",
    "date3='20190205'\n",
    "date4='20190217'\n",
    "\n",
    "x1=0; dx=18000; y1=0; dy=3600\n",
    "alooks=4; rlooks=20\n",
    "\n",
    "ds = gdal.Open(workdir+\"/\"+cropdir+\"/SLC_vv/\"+date1+\"/\"+date1+\".slc.full\", gdal.GA_ReadOnly)\n",
    "slc1 = ds.GetRasterBand(1).ReadAsArray(x1,y1,dx,dy)\n",
    "ds = gdal.Open(workdir+\"/\"+cropdir+\"/SLC_vv/\"+date2+\"/\"+date2+\".slc.full\", gdal.GA_ReadOnly)\n",
    "slc2 = ds.GetRasterBand(1).ReadAsArray(x1,y1,dx,dy)\n",
    "ds = gdal.Open(workdir+\"/\"+cropdir+\"/SLC_vv/\"+date3+\"/\"+date3+\".slc.full\", gdal.GA_ReadOnly)\n",
    "slc3 = ds.GetRasterBand(1).ReadAsArray(x1,y1,dx,dy)\n",
    "ds = gdal.Open(workdir+\"/\"+cropdir+\"/SLC_vv/\"+date4+\"/\"+date4+\".slc.full\", gdal.GA_ReadOnly)\n",
    "slc4 = ds.GetRasterBand(1).ReadAsArray(x1,y1,dx,dy)\n",
    "\n",
    "# 4 SLCs, can make 3 sequential igrams\n",
    "int12 = slc1 * np.conj(slc2)\n",
    "int23 = slc2 * np.conj(slc3)\n",
    "int34 = slc3 * np.conj(slc4)\n",
    "# and 2 nonsequential (skip a date)\n",
    "int31 = slc3 * np.conj(slc1)\n",
    "int42 = slc4 * np.conj(slc2)\n",
    "\n",
    "# now filter them by alooks/rlooks \n",
    "int12filt = uniform_filter((int12), size=[alooks,rlooks])\n",
    "int23filt = uniform_filter((int23), size=[alooks,rlooks])\n",
    "int34filt = uniform_filter((int34), size=[alooks,rlooks])\n",
    "int31filt = uniform_filter((int31), size=[alooks,rlooks])\n",
    "int42filt = uniform_filter((int42), size=[alooks,rlooks])\n",
    "\n",
    "# normalizing, didn't change anything \n",
    "#int12filt = np.exp(1j*np.angle(int12filt))\n",
    "#int23filt = np.exp(1j*np.angle(int23filt))\n",
    "#int34filt = np.exp(1j*np.angle(int34filt))\n",
    "#int31filt = np.exp(1j*np.angle(int31filt))\n",
    "#int42filt = np.exp(1j*np.angle(int42filt))\n",
    "\n",
    "tpc123 = np.angle(int12filt*int23filt*int31filt)\n",
    "tpc234 = np.angle(int23filt*int34filt*int42filt)\n"
   ]
  },
  {
   "cell_type": "code",
   "execution_count": null,
   "id": "243277e1",
   "metadata": {},
   "outputs": [],
   "source": [
    "# try plotting the downsampled interferogram \n",
    "plt.figure(figsize=(8, 4))\n",
    "\n",
    "plt.subplot(1,2,1)\n",
    "plt.imshow(tpc123,vmin=-np.pi/4, vmax=np.pi/4, cmap='seismic', aspect='auto', \\\n",
    "           interpolation='nearest') # previously had cmap='jet'\n",
    "plt.ylabel('azimuth')\n",
    "plt.xlabel('range')\n",
    "plt.title(\"triplet phase closure \\n\"+str(date1)+\"-\"+str(date2)+\"-\"+str(date3))\n",
    "plt.colorbar()\n",
    "plt.xlim(dx, 0)\n",
    "\n",
    "plt.subplot(1,2,2)\n",
    "plt.imshow(tpc234,vmin=-np.pi/4, vmax=np.pi/4, cmap='seismic', aspect='auto', \\\n",
    "           interpolation='nearest')\n",
    "plt.xlabel('range')\n",
    "plt.title(\"triplet phase closure \\n\"+str(date2)+\"-\"+str(date3)+\"-\"+str(date4))\n",
    "plt.colorbar()\n",
    "plt.xlim(dx, 0)\n",
    "plt.show()"
   ]
  },
  {
   "cell_type": "code",
   "execution_count": null,
   "id": "e2265e9a",
   "metadata": {},
   "outputs": [],
   "source": [
    "# average across this scene for each date triplet:\n",
    "print(str(date1)+\"-\"+str(date2)+\"-\"+str(date3)+\" average = \"+str(np.mean(tpc123)))\n",
    "print(str(date2)+\"-\"+str(date3)+\"-\"+str(date4)+\" average = \"+str(np.mean(tpc234)))"
   ]
  },
  {
   "cell_type": "code",
   "execution_count": null,
   "id": "14abb5ed",
   "metadata": {},
   "outputs": [],
   "source": [
    "# plot just a single one to more easily zoom in \n",
    "plt.figure(figsize=(10, 12))\n",
    "plt.imshow(tpc123,vmin=-np.pi/4, vmax=np.pi/4, cmap='seismic', aspect='auto', \\\n",
    "           interpolation='nearest') # previously had cmap='jet'\n",
    "startx=8000; endx=11000; starty=1100; endy=1800\n",
    "plt.gca().add_patch(Rectangle((startx,starty), endx-startx, endy-starty,\n",
    "                    edgecolor='k',\n",
    "                    facecolor='none',\n",
    "                    lw=3))\n",
    "plt.ylabel('azimuth')\n",
    "plt.xlabel('range')\n",
    "plt.title(\"triplet phase closure \\n\"+str(date1)+\"-\"+str(date2)+\"-\"+str(date3))\n",
    "plt.colorbar()\n",
    "plt.xlim(dx, 0)\n",
    "plt.show()"
   ]
  },
  {
   "cell_type": "markdown",
   "id": "cc569359-a1f8-4869-a73f-20048ceafd38",
   "metadata": {},
   "source": [
    "<br> Next: take a transect of TPC across the western border of Laguna Salada and animate it over time <br> <br>"
   ]
  },
  {
   "cell_type": "markdown",
   "id": "e5c5353d-f6e8-402a-aee9-9bfaf7989dc1",
   "metadata": {},
   "source": [
    "Bring in my extract_transect tool to see what TPC is doing over the western shoreline of Laguna Salada. Also this will test my transect tool."
   ]
  },
  {
   "cell_type": "code",
   "execution_count": null,
   "id": "22d54024-126b-4f90-97c6-6c758a62858b",
   "metadata": {},
   "outputs": [],
   "source": [
    "x1 = 9234\n",
    "x2 = 10000\n",
    "y1 = 1345\n",
    "y2 = 1500\n",
    "\n",
    "startPt = [startx, starty]\n",
    "endPt = [endx, endy]\n",
    "transect = extract_transect(tpc123, startPt, endPt, 10, 30)"
   ]
  },
  {
   "cell_type": "code",
   "execution_count": null,
   "id": "8d298c67-a574-49cf-ab71-f15f45e85a8c",
   "metadata": {},
   "outputs": [],
   "source": [
    "plt.figure(figsize=(8, 5))\n",
    "plt.plot(np.real(transect[0]),np.real(transect[1]),'r.-',markersize=5)\n",
    "plt.ylabel('TPC'); plt.xlabel('profile dist')\n",
    "plt.show()"
   ]
  },
  {
   "cell_type": "code",
   "execution_count": null,
   "id": "801e29a5-4db1-4908-b00b-e79c417d8f64",
   "metadata": {},
   "outputs": [],
   "source": []
  }
 ],
 "metadata": {
  "kernelspec": {
   "display_name": "Python 3.9.9 ('oliviaJupyter')",
   "language": "python",
   "name": "python3"
  },
  "language_info": {
   "codemirror_mode": {
    "name": "ipython",
    "version": 3
   },
   "file_extension": ".py",
   "mimetype": "text/x-python",
   "name": "python",
   "nbconvert_exporter": "python",
   "pygments_lexer": "ipython3",
   "version": "3.9.9"
  },
  "vscode": {
   "interpreter": {
    "hash": "4fa1be1bdc77858ae7f715553366090cb9e4a262a14f4183988fd6a5a1f05c5e"
   }
  }
 },
 "nbformat": 4,
 "nbformat_minor": 5
}
